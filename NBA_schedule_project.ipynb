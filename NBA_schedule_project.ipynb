{
 "cells": [
  {
   "cell_type": "markdown",
   "metadata": {},
   "source": [
    "<style>\n",
    ".jp-Notebook {\n",
    "    padding: var(--jp-notebook-padding);\n",
    "    margin-left: 160px;\n",
    "    outline: none;\n",
    "    overflow: auto;\n",
    "    background: var(--jp-layout-color0);\n",
    "}\n",
    "</style>"
   ]
  },
  {
   "cell_type": "markdown",
   "metadata": {},
   "source": [
    "# Setup and Data    "
   ]
  },
  {
   "cell_type": "code",
   "execution_count": 5,
   "metadata": {
    "jupyter": {
     "is_executing": true
    }
   },
   "outputs": [],
   "source": [
    "import pandas as pd\n",
    "import numpy as np\n",
    "\n",
    "schedule = pd.read_csv(\"/Users/anton/Downloads/Oklahoma_City_Thunder/schedule.csv\")\n",
    "draft_schedule = pd.read_csv(\"/Users/anton/Downloads/Oklahoma_City_Thunder/schedule_24_partial.csv\")\n",
    "locations = pd.read_csv(\"/Users/anton/Downloads/Oklahoma_City_Thunder/locations.csv\")\n",
    "game_data = pd.read_csv(\"/Users/anton/Downloads/Oklahoma_City_Thunder/team_game_data.csv\")"
   ]
  },
  {
   "cell_type": "code",
   "execution_count": 24,
   "metadata": {},
   "outputs": [
    {
     "data": {
      "text/html": [
       "<div>\n",
       "<style scoped>\n",
       "    .dataframe tbody tr th:only-of-type {\n",
       "        vertical-align: middle;\n",
       "    }\n",
       "\n",
       "    .dataframe tbody tr th {\n",
       "        vertical-align: top;\n",
       "    }\n",
       "\n",
       "    .dataframe thead th {\n",
       "        text-align: right;\n",
       "    }\n",
       "</style>\n",
       "<table border=\"1\" class=\"dataframe\">\n",
       "  <thead>\n",
       "    <tr style=\"text-align: right;\">\n",
       "      <th></th>\n",
       "      <th>season</th>\n",
       "      <th>gamedate</th>\n",
       "      <th>team</th>\n",
       "      <th>opponent</th>\n",
       "      <th>home</th>\n",
       "      <th>win</th>\n",
       "    </tr>\n",
       "  </thead>\n",
       "  <tbody>\n",
       "    <tr>\n",
       "      <th>0</th>\n",
       "      <td>2014</td>\n",
       "      <td>2015-04-15</td>\n",
       "      <td>SAC</td>\n",
       "      <td>LAL</td>\n",
       "      <td>0</td>\n",
       "      <td>1</td>\n",
       "    </tr>\n",
       "    <tr>\n",
       "      <th>1</th>\n",
       "      <td>2014</td>\n",
       "      <td>2015-04-15</td>\n",
       "      <td>NYK</td>\n",
       "      <td>DET</td>\n",
       "      <td>1</td>\n",
       "      <td>0</td>\n",
       "    </tr>\n",
       "    <tr>\n",
       "      <th>2</th>\n",
       "      <td>2014</td>\n",
       "      <td>2015-04-15</td>\n",
       "      <td>DEN</td>\n",
       "      <td>GSW</td>\n",
       "      <td>0</td>\n",
       "      <td>0</td>\n",
       "    </tr>\n",
       "    <tr>\n",
       "      <th>3</th>\n",
       "      <td>2014</td>\n",
       "      <td>2015-04-15</td>\n",
       "      <td>MIA</td>\n",
       "      <td>PHI</td>\n",
       "      <td>0</td>\n",
       "      <td>1</td>\n",
       "    </tr>\n",
       "    <tr>\n",
       "      <th>4</th>\n",
       "      <td>2014</td>\n",
       "      <td>2015-04-15</td>\n",
       "      <td>UTA</td>\n",
       "      <td>HOU</td>\n",
       "      <td>0</td>\n",
       "      <td>0</td>\n",
       "    </tr>\n",
       "  </tbody>\n",
       "</table>\n",
       "</div>"
      ],
      "text/plain": [
       "   season    gamedate team opponent  home  win\n",
       "0    2014  2015-04-15  SAC      LAL     0    1\n",
       "1    2014  2015-04-15  NYK      DET     1    0\n",
       "2    2014  2015-04-15  DEN      GSW     0    0\n",
       "3    2014  2015-04-15  MIA      PHI     0    1\n",
       "4    2014  2015-04-15  UTA      HOU     0    0"
      ]
     },
     "execution_count": 24,
     "metadata": {},
     "output_type": "execute_result"
    }
   ],
   "source": [
    "schedule.head()"
   ]
  },
  {
   "cell_type": "code",
   "execution_count": 26,
   "metadata": {},
   "outputs": [
    {
     "data": {
      "text/html": [
       "<div>\n",
       "<style scoped>\n",
       "    .dataframe tbody tr th:only-of-type {\n",
       "        vertical-align: middle;\n",
       "    }\n",
       "\n",
       "    .dataframe tbody tr th {\n",
       "        vertical-align: top;\n",
       "    }\n",
       "\n",
       "    .dataframe thead th {\n",
       "        text-align: right;\n",
       "    }\n",
       "</style>\n",
       "<table border=\"1\" class=\"dataframe\">\n",
       "  <thead>\n",
       "    <tr style=\"text-align: right;\">\n",
       "      <th></th>\n",
       "      <th>season</th>\n",
       "      <th>gamedate</th>\n",
       "      <th>team</th>\n",
       "      <th>opponent</th>\n",
       "      <th>home</th>\n",
       "      <th>win</th>\n",
       "    </tr>\n",
       "  </thead>\n",
       "  <tbody>\n",
       "    <tr>\n",
       "      <th>0</th>\n",
       "      <td>2024</td>\n",
       "      <td>2025-04-13</td>\n",
       "      <td>DEN</td>\n",
       "      <td>HOU</td>\n",
       "      <td>0</td>\n",
       "      <td>1</td>\n",
       "    </tr>\n",
       "    <tr>\n",
       "      <th>1</th>\n",
       "      <td>2024</td>\n",
       "      <td>2025-04-13</td>\n",
       "      <td>OKC</td>\n",
       "      <td>NOP</td>\n",
       "      <td>0</td>\n",
       "      <td>1</td>\n",
       "    </tr>\n",
       "    <tr>\n",
       "      <th>2</th>\n",
       "      <td>2024</td>\n",
       "      <td>2025-04-11</td>\n",
       "      <td>OKC</td>\n",
       "      <td>UTA</td>\n",
       "      <td>0</td>\n",
       "      <td>1</td>\n",
       "    </tr>\n",
       "    <tr>\n",
       "      <th>3</th>\n",
       "      <td>2024</td>\n",
       "      <td>2025-04-11</td>\n",
       "      <td>DEN</td>\n",
       "      <td>MEM</td>\n",
       "      <td>1</td>\n",
       "      <td>1</td>\n",
       "    </tr>\n",
       "    <tr>\n",
       "      <th>4</th>\n",
       "      <td>2024</td>\n",
       "      <td>2025-04-09</td>\n",
       "      <td>OKC</td>\n",
       "      <td>PHX</td>\n",
       "      <td>0</td>\n",
       "      <td>1</td>\n",
       "    </tr>\n",
       "  </tbody>\n",
       "</table>\n",
       "</div>"
      ],
      "text/plain": [
       "   season    gamedate team opponent  home  win\n",
       "0    2024  2025-04-13  DEN      HOU     0    1\n",
       "1    2024  2025-04-13  OKC      NOP     0    1\n",
       "2    2024  2025-04-11  OKC      UTA     0    1\n",
       "3    2024  2025-04-11  DEN      MEM     1    1\n",
       "4    2024  2025-04-09  OKC      PHX     0    1"
      ]
     },
     "execution_count": 26,
     "metadata": {},
     "output_type": "execute_result"
    }
   ],
   "source": [
    "draft_schedule.head()"
   ]
  },
  {
   "cell_type": "code",
   "execution_count": 28,
   "metadata": {},
   "outputs": [
    {
     "data": {
      "text/html": [
       "<div>\n",
       "<style scoped>\n",
       "    .dataframe tbody tr th:only-of-type {\n",
       "        vertical-align: middle;\n",
       "    }\n",
       "\n",
       "    .dataframe tbody tr th {\n",
       "        vertical-align: top;\n",
       "    }\n",
       "\n",
       "    .dataframe thead th {\n",
       "        text-align: right;\n",
       "    }\n",
       "</style>\n",
       "<table border=\"1\" class=\"dataframe\">\n",
       "  <thead>\n",
       "    <tr style=\"text-align: right;\">\n",
       "      <th></th>\n",
       "      <th>team</th>\n",
       "      <th>latitude</th>\n",
       "      <th>longitude</th>\n",
       "      <th>timezone</th>\n",
       "    </tr>\n",
       "  </thead>\n",
       "  <tbody>\n",
       "    <tr>\n",
       "      <th>0</th>\n",
       "      <td>ATL</td>\n",
       "      <td>33.757233</td>\n",
       "      <td>-84.396340</td>\n",
       "      <td>Eastern</td>\n",
       "    </tr>\n",
       "    <tr>\n",
       "      <th>1</th>\n",
       "      <td>BOS</td>\n",
       "      <td>42.366310</td>\n",
       "      <td>-71.062226</td>\n",
       "      <td>Eastern</td>\n",
       "    </tr>\n",
       "    <tr>\n",
       "      <th>2</th>\n",
       "      <td>BKN</td>\n",
       "      <td>40.682657</td>\n",
       "      <td>-73.975282</td>\n",
       "      <td>Eastern</td>\n",
       "    </tr>\n",
       "    <tr>\n",
       "      <th>3</th>\n",
       "      <td>CHA</td>\n",
       "      <td>35.225186</td>\n",
       "      <td>-80.839336</td>\n",
       "      <td>Eastern</td>\n",
       "    </tr>\n",
       "    <tr>\n",
       "      <th>4</th>\n",
       "      <td>CHI</td>\n",
       "      <td>41.880629</td>\n",
       "      <td>-87.674048</td>\n",
       "      <td>Central</td>\n",
       "    </tr>\n",
       "  </tbody>\n",
       "</table>\n",
       "</div>"
      ],
      "text/plain": [
       "  team   latitude  longitude timezone\n",
       "0  ATL  33.757233 -84.396340  Eastern\n",
       "1  BOS  42.366310 -71.062226  Eastern\n",
       "2  BKN  40.682657 -73.975282  Eastern\n",
       "3  CHA  35.225186 -80.839336  Eastern\n",
       "4  CHI  41.880629 -87.674048  Central"
      ]
     },
     "execution_count": 28,
     "metadata": {},
     "output_type": "execute_result"
    }
   ],
   "source": [
    "locations.head()"
   ]
  },
  {
   "cell_type": "code",
   "execution_count": 30,
   "metadata": {},
   "outputs": [
    {
     "data": {
      "text/html": [
       "<div>\n",
       "<style scoped>\n",
       "    .dataframe tbody tr th:only-of-type {\n",
       "        vertical-align: middle;\n",
       "    }\n",
       "\n",
       "    .dataframe tbody tr th {\n",
       "        vertical-align: top;\n",
       "    }\n",
       "\n",
       "    .dataframe thead th {\n",
       "        text-align: right;\n",
       "    }\n",
       "</style>\n",
       "<table border=\"1\" class=\"dataframe\">\n",
       "  <thead>\n",
       "    <tr style=\"text-align: right;\">\n",
       "      <th></th>\n",
       "      <th>season</th>\n",
       "      <th>gametype</th>\n",
       "      <th>nbagameid</th>\n",
       "      <th>gamedate</th>\n",
       "      <th>offensivenbateamid</th>\n",
       "      <th>off_team_name</th>\n",
       "      <th>off_team</th>\n",
       "      <th>off_home</th>\n",
       "      <th>off_win</th>\n",
       "      <th>defensivenbateamid</th>\n",
       "      <th>...</th>\n",
       "      <th>turnovers</th>\n",
       "      <th>blocksagainst</th>\n",
       "      <th>defensivefouls</th>\n",
       "      <th>offensivefouls</th>\n",
       "      <th>shootingfoulsdrawn</th>\n",
       "      <th>possessions</th>\n",
       "      <th>points</th>\n",
       "      <th>shotattempts</th>\n",
       "      <th>andones</th>\n",
       "      <th>shotattemptpoints</th>\n",
       "    </tr>\n",
       "  </thead>\n",
       "  <tbody>\n",
       "    <tr>\n",
       "      <th>0</th>\n",
       "      <td>2016</td>\n",
       "      <td>2</td>\n",
       "      <td>21600495</td>\n",
       "      <td>2016-12-30</td>\n",
       "      <td>1610612740</td>\n",
       "      <td>New Orleans Pelicans</td>\n",
       "      <td>NOP</td>\n",
       "      <td>1</td>\n",
       "      <td>1</td>\n",
       "      <td>1610612752</td>\n",
       "      <td>...</td>\n",
       "      <td>13</td>\n",
       "      <td>6</td>\n",
       "      <td>17</td>\n",
       "      <td>1</td>\n",
       "      <td>9</td>\n",
       "      <td>101</td>\n",
       "      <td>104</td>\n",
       "      <td>91</td>\n",
       "      <td>3</td>\n",
       "      <td>102</td>\n",
       "    </tr>\n",
       "    <tr>\n",
       "      <th>1</th>\n",
       "      <td>2016</td>\n",
       "      <td>2</td>\n",
       "      <td>21600495</td>\n",
       "      <td>2016-12-30</td>\n",
       "      <td>1610612752</td>\n",
       "      <td>New York Knicks</td>\n",
       "      <td>NYK</td>\n",
       "      <td>0</td>\n",
       "      <td>0</td>\n",
       "      <td>1610612740</td>\n",
       "      <td>...</td>\n",
       "      <td>14</td>\n",
       "      <td>5</td>\n",
       "      <td>11</td>\n",
       "      <td>1</td>\n",
       "      <td>9</td>\n",
       "      <td>99</td>\n",
       "      <td>92</td>\n",
       "      <td>100</td>\n",
       "      <td>2</td>\n",
       "      <td>92</td>\n",
       "    </tr>\n",
       "    <tr>\n",
       "      <th>2</th>\n",
       "      <td>2021</td>\n",
       "      <td>2</td>\n",
       "      <td>22100943</td>\n",
       "      <td>2022-03-03</td>\n",
       "      <td>1610612742</td>\n",
       "      <td>Dallas Mavericks</td>\n",
       "      <td>DAL</td>\n",
       "      <td>1</td>\n",
       "      <td>1</td>\n",
       "      <td>1610612744</td>\n",
       "      <td>...</td>\n",
       "      <td>10</td>\n",
       "      <td>5</td>\n",
       "      <td>16</td>\n",
       "      <td>0</td>\n",
       "      <td>11</td>\n",
       "      <td>90</td>\n",
       "      <td>122</td>\n",
       "      <td>90</td>\n",
       "      <td>6</td>\n",
       "      <td>120</td>\n",
       "    </tr>\n",
       "    <tr>\n",
       "      <th>3</th>\n",
       "      <td>2021</td>\n",
       "      <td>2</td>\n",
       "      <td>22100943</td>\n",
       "      <td>2022-03-03</td>\n",
       "      <td>1610612744</td>\n",
       "      <td>Golden State Warriors</td>\n",
       "      <td>GSW</td>\n",
       "      <td>0</td>\n",
       "      <td>0</td>\n",
       "      <td>1610612742</td>\n",
       "      <td>...</td>\n",
       "      <td>15</td>\n",
       "      <td>1</td>\n",
       "      <td>16</td>\n",
       "      <td>3</td>\n",
       "      <td>6</td>\n",
       "      <td>90</td>\n",
       "      <td>113</td>\n",
       "      <td>86</td>\n",
       "      <td>1</td>\n",
       "      <td>112</td>\n",
       "    </tr>\n",
       "    <tr>\n",
       "      <th>4</th>\n",
       "      <td>2016</td>\n",
       "      <td>2</td>\n",
       "      <td>21601032</td>\n",
       "      <td>2017-03-18</td>\n",
       "      <td>1610612741</td>\n",
       "      <td>Chicago Bulls</td>\n",
       "      <td>CHI</td>\n",
       "      <td>1</td>\n",
       "      <td>1</td>\n",
       "      <td>1610612762</td>\n",
       "      <td>...</td>\n",
       "      <td>11</td>\n",
       "      <td>8</td>\n",
       "      <td>11</td>\n",
       "      <td>0</td>\n",
       "      <td>6</td>\n",
       "      <td>88</td>\n",
       "      <td>95</td>\n",
       "      <td>84</td>\n",
       "      <td>2</td>\n",
       "      <td>92</td>\n",
       "    </tr>\n",
       "  </tbody>\n",
       "</table>\n",
       "<p>5 rows × 41 columns</p>\n",
       "</div>"
      ],
      "text/plain": [
       "   season  gametype  nbagameid    gamedate  offensivenbateamid  \\\n",
       "0    2016         2   21600495  2016-12-30          1610612740   \n",
       "1    2016         2   21600495  2016-12-30          1610612752   \n",
       "2    2021         2   22100943  2022-03-03          1610612742   \n",
       "3    2021         2   22100943  2022-03-03          1610612744   \n",
       "4    2016         2   21601032  2017-03-18          1610612741   \n",
       "\n",
       "           off_team_name off_team  off_home  off_win  defensivenbateamid  ...  \\\n",
       "0   New Orleans Pelicans      NOP         1        1          1610612752  ...   \n",
       "1        New York Knicks      NYK         0        0          1610612740  ...   \n",
       "2       Dallas Mavericks      DAL         1        1          1610612744  ...   \n",
       "3  Golden State Warriors      GSW         0        0          1610612742  ...   \n",
       "4          Chicago Bulls      CHI         1        1          1610612762  ...   \n",
       "\n",
       "  turnovers blocksagainst  defensivefouls  offensivefouls  shootingfoulsdrawn  \\\n",
       "0        13             6              17               1                   9   \n",
       "1        14             5              11               1                   9   \n",
       "2        10             5              16               0                  11   \n",
       "3        15             1              16               3                   6   \n",
       "4        11             8              11               0                   6   \n",
       "\n",
       "   possessions  points  shotattempts  andones  shotattemptpoints  \n",
       "0          101     104            91        3                102  \n",
       "1           99      92           100        2                 92  \n",
       "2           90     122            90        6                120  \n",
       "3           90     113            86        1                112  \n",
       "4           88      95            84        2                 92  \n",
       "\n",
       "[5 rows x 41 columns]"
      ]
     },
     "execution_count": 30,
     "metadata": {},
     "output_type": "execute_result"
    }
   ],
   "source": [
    "game_data.head()"
   ]
  },
  {
   "cell_type": "markdown",
   "metadata": {},
   "source": [
    "## Part 1 -- Schedule Analysis               "
   ]
  },
  {
   "cell_type": "markdown",
   "metadata": {},
   "source": [
    "**QUESTION:** How many times are the Thunder scheduled to play 4 games in 6 nights in the provided 80-game draft of the 2024-25 season schedule? (Note: clarification, the stretches can overlap, the question is really “How many games are the 4th game played over the past 6 nights?”)     \n",
    "\n",
    " "
   ]
  },
  {
   "cell_type": "code",
   "execution_count": 55,
   "metadata": {},
   "outputs": [],
   "source": [
    "# filter OKC games, sort, and convert to list to loop easier\n",
    "okc_games = draft_schedule[(draft_schedule['team'] == 'OKC') & (draft_schedule['season'] == 2024)].copy()\n",
    "okc_games['date'] = pd.to_datetime(okc_games['gamedate']).dt.normalize()\n",
    "okc_games = okc_games.sort_values('date').reset_index(drop=True)\n",
    "okc_game_dates = okc_games['date'].tolist()"
   ]
  },
  {
   "cell_type": "code",
   "execution_count": 57,
   "metadata": {},
   "outputs": [
    {
     "name": "stdout",
     "output_type": "stream",
     "text": [
      "   season    gamedate team opponent  home  win       date\n",
      "0    2024  2024-10-24  OKC      DEN     0    1 2024-10-24\n",
      "1    2024  2024-10-26  OKC      CHI     0    1 2024-10-26\n",
      "2    2024  2024-10-27  OKC      ATL     1    1 2024-10-27\n",
      "3    2024  2024-10-30  OKC      SAS     1    1 2024-10-30\n",
      "4    2024  2024-11-01  OKC      POR     0    1 2024-11-01\n"
     ]
    }
   ],
   "source": [
    "print(okc_games.head())"
   ]
  },
  {
   "cell_type": "code",
   "execution_count": 65,
   "metadata": {},
   "outputs": [],
   "source": [
    "# Find every game that is the 4th one played within the last 6 nights\n",
    "qualifying_games_indices = []\n",
    "for i in range(len(okc_game_dates)):\n",
    "    current_date = okc_game_dates[i]\n",
    "    window_start_date = current_date - pd.Timedelta(days=5)\n",
    "\n",
    "    #Count how many OKC games inside [window_start_date, current_date]\n",
    "    games_in_window = sum(window_start_date <= d <= current_date for d in okc_game_dates)\n",
    "    if games_in_window == 4:\n",
    "        qualifying_games_indices.append(i)\n",
    "\n",
    "qualifying_games = okc_games.iloc[qualifying_games_indices]"
   ]
  },
  {
   "cell_type": "code",
   "execution_count": 67,
   "metadata": {},
   "outputs": [
    {
     "name": "stdout",
     "output_type": "stream",
     "text": [
      "OKC 4th game in past 6 nights (count): 26\n",
      "\n",
      "      gamedate team opponent  home\n",
      "6   2024-11-04  OKC      ORL     1\n",
      "7   2024-11-06  OKC      DEN     0\n",
      "10  2024-11-11  OKC      LAC     1\n",
      "11  2024-11-13  OKC      NOP     1\n",
      "12  2024-11-15  OKC      PHX     1\n",
      "15  2024-11-20  OKC      POR     1\n",
      "29  2024-12-31  OKC      MIN     1\n",
      "30  2025-01-02  OKC      LAC     1\n",
      "31  2025-01-03  OKC      NYK     1\n",
      "32  2025-01-05  OKC      BOS     1\n",
      "38  2025-01-17  OKC      DAL     0\n",
      "39  2025-01-19  OKC      BKN     1\n",
      "48  2025-02-08  OKC      MEM     0\n",
      "49  2025-02-10  OKC      NOP     1\n",
      "50  2025-02-12  OKC      MIA     1\n",
      "51  2025-02-13  OKC      MIN     0\n",
      "55  2025-02-26  OKC      BKN     0\n",
      "56  2025-02-28  OKC      ATL     0\n",
      "58  2025-03-03  OKC      HOU     1\n",
      "59  2025-03-05  OKC      MEM     0\n",
      "60  2025-03-07  OKC      POR     1\n",
      "62  2025-03-10  OKC      DEN     1\n",
      "63  2025-03-12  OKC      BOS     0\n",
      "77  2025-04-09  OKC      PHX     0\n",
      "78  2025-04-11  OKC      UTA     0\n",
      "79  2025-04-13  OKC      NOP     0\n"
     ]
    }
   ],
   "source": [
    "print(\"OKC 4th game in past 6 nights (count):\", len(qualifying_games))\n",
    "print()\n",
    "print(qualifying_games[['gamedate', 'team', 'opponent', 'home']])"
   ]
  },
  {
   "cell_type": "markdown",
   "metadata": {},
   "source": [
    "**QUESTION:** From 2014-15 to 2023-24, what is the average number of 4-in-6 stretches for a team in a season? Adjust each team/season to per-82 games before taking your final average.   \n",
    "  \n"
   ]
  },
  {
   "cell_type": "code",
   "execution_count": 70,
   "metadata": {},
   "outputs": [
    {
     "name": "stdout",
     "output_type": "stream",
     "text": [
      "Average per team-season (per-82): 25.10\n",
      "\n",
      " season  avg_per_team_per_82\n",
      "   2014            29.600000\n",
      "   2015            28.000000\n",
      "   2016            27.866667\n",
      "   2017            20.366667\n",
      "   2018            19.500000\n",
      "   2019            20.627533\n",
      "   2020            33.938889\n",
      "   2021            23.800000\n",
      "   2022            23.833333\n",
      "   2023            23.466667\n"
     ]
    }
   ],
   "source": [
    "def q2_league_avg_4in6(schedule_df):\n",
    "    # copy so no touch on original\n",
    "    s = schedule_df.copy()\n",
    "    s[\"gamedate\"] = pd.to_datetime(s[\"gamedate\"]).dt.normalize()\n",
    "    out = []\n",
    "    \n",
    "    for (t,yr), g in s.groupby([\"team\",\"season\"]):\n",
    "        d = g[\"gamedate\"].sort_values().to_numpy(dtype=\"datetime64[D]\").astype(\"int64\")\n",
    "        if len(d)==0: continue\n",
    "\n",
    "        # for each game day D, find the first index with date >= D-5\n",
    "        starts = np.searchsorted(d, d - 5)\n",
    "        counts = np.arange(len(d)) - starts + 1\n",
    "        c4 = int((counts==4).sum())\n",
    "        out.append({\"team\":t,\"season\":yr,\"games\":len(d),\"fourth_in_six_per82\":c4*82/len(d)})\n",
    "        \n",
    "    ts = pd.DataFrame(out)\n",
    "    overall = ts[\"fourth_in_six_per82\"].mean()\n",
    "    by_season = ts.groupby(\"season\",as_index=False)[\"fourth_in_six_per82\"].mean().rename(\n",
    "        columns={\"fourth_in_six_per82\":\"avg_per_team_per_82\"}).sort_values(\"season\")\n",
    "    \n",
    "    print(f\"Average per team-season (per-82): {overall:.2f}\\n\")\n",
    "    print(by_season.to_string(index=False))\n",
    "    return ts, by_season, overall\n",
    "\n",
    "team_season_4in6, season_avg_4in6, overall_avg_4in6 = q2_league_avg_4in6(schedule)"
   ]
  },
  {
   "cell_type": "markdown",
   "metadata": {},
   "source": [
    "**QUESTION:** Which of the 30 NBA teams has had the highest average number of 4-in-6 stretches between 2014-15 and 2023-24? Which team has had the lowest average? Adjust each team/season to per-82 games.     \n"
   ]
  },
  {
   "cell_type": "code",
   "execution_count": 215,
   "metadata": {},
   "outputs": [
    {
     "name": "stdout",
     "output_type": "stream",
     "text": [
      "Most average 4-in-6 (per-82), 2014-15 to 2023-24:\n",
      "team  avg_4in6_per82\n",
      " CHA           28.11\n",
      "\n",
      "Fewest average 4-in-6 (per-82), 2014-15 to 2023-24:\n",
      "team  avg_4in6_per82\n",
      " NYK           22.19\n",
      "\n",
      "Full team ranking (desc):\n",
      "team  avg_4in6_per82\n",
      " CHA           28.11\n",
      " CHI           28.05\n",
      " POR           26.93\n",
      " DET           26.53\n",
      " LAC           26.45\n",
      " WAS           26.42\n",
      " ATL           26.32\n",
      " IND           26.25\n",
      " OKC           26.15\n",
      " MEM           25.98\n",
      " UTA           25.75\n",
      " CLE           25.71\n",
      " MIN           25.62\n",
      " SAS           25.56\n",
      " GSW           25.34\n",
      " SAC           25.20\n",
      " BOS           25.19\n",
      " PHI           25.18\n",
      " TOR           24.81\n",
      " HOU           24.55\n",
      " MIL           24.34\n",
      " ORL           24.29\n",
      " DAL           23.69\n",
      " LAL           23.68\n",
      " MIA           23.56\n",
      " BKN           23.31\n",
      " DEN           22.87\n",
      " PHX           22.58\n",
      " NOP           22.40\n",
      " NYK           22.19\n"
     ]
    }
   ],
   "source": [
    "import contextlib, io\n",
    "\n",
    "with contextlib.redirect_stdout(io.StringIO()):\n",
    "    team_season_summary_df, _, _ = q2_league_avg_4in6(schedule)\n",
    "\n",
    "team_avg_per82_df = (\n",
    "    team_season_summary_df\n",
    "    .groupby(\"team\", as_index=False)[\"fourth_in_six_per82\"]\n",
    "    .mean()\n",
    "    .rename(columns={\"fourth_in_six_per82\": \"avg_4in6_per82\"})\n",
    "    .sort_values(\"avg_4in6_per82\", ascending=False)\n",
    ")\n",
    "\n",
    "max_avg = team_avg_per82_df[\"avg_4in6_per82\"].max()\n",
    "min_avg = team_avg_per82_df[\"avg_4in6_per82\"].min()\n",
    "\n",
    "teams_highest_df = team_avg_per82_df[team_avg_per82_df[\"avg_4in6_per82\"].eq(max_avg)].copy()\n",
    "teams_lowest_df  = team_avg_per82_df[team_avg_per82_df[\"avg_4in6_per82\"].eq(min_avg)].copy()\n",
    "\n",
    "print(\"Most average 4-in-6 (per-82), 2014-15 to 2023-24:\")\n",
    "print(teams_highest_df.assign(avg_4in6_per82=lambda d: d[\"avg_4in6_per82\"].round(2)).to_string(index=False))\n",
    "\n",
    "print(\"\\nFewest average 4-in-6 (per-82), 2014-15 to 2023-24:\")\n",
    "print(teams_lowest_df.assign(avg_4in6_per82=lambda d: d[\"avg_4in6_per82\"].round(2)).to_string(index=False))\n",
    "\n",
    "print(\"\\nFull team ranking (desc):\")\n",
    "print(team_avg_per82_df.assign(avg_4in6_per82=lambda d: d[\"avg_4in6_per82\"].round(2)).to_string(index=False))"
   ]
  },
  {
   "cell_type": "markdown",
   "metadata": {},
   "source": [
    "**QUESTION:** What was BKN's defensive eFG% in the 2023-24 season? What was their defensive eFG% that season in situations where their opponent was on the second night of back-to-back?  "
   ]
  },
  {
   "cell_type": "code",
   "execution_count": 151,
   "metadata": {},
   "outputs": [
    {
     "name": "stdout",
     "output_type": "stream",
     "text": [
      "BKN defensive eFG% (2023–24):\n",
      "Overall (weighted): 54.349%\n",
      "Opponent of B2B: 53.491%\n",
      "Games: 82, \n",
      "B2B subset: 16\n"
     ]
    }
   ],
   "source": [
    "def q5_bkn_def_efg(schedule_df, game_df, team=\"BKN\", season=2023):\n",
    "    s = schedule_df.copy()\n",
    "\n",
    "    # use as datee\n",
    "    s[\"gamedate\"] = pd.to_datetime(s[\"gamedate\"]).dt.normalize()\n",
    "    s[[\"team\",\"opponent\"]] = s[[\"team\",\"opponent\"]].apply(lambda c: c.str.upper().str.strip())\n",
    "\n",
    "    played = set(zip(s[\"team\"], s[\"gamedate\"]))\n",
    "    one = pd.Timedelta(days=1)\n",
    "\n",
    "    bkn_sched = s[(s[\"team\"]==team) & (s[\"season\"]==season)][[\"gamedate\",\"opponent\"]].copy()\n",
    "    # if opponent playing yesterday\n",
    "    bkn_sched[\"opp_on_second_of_b2b\"] = bkn_sched.apply(\n",
    "        lambda r: (r[\"opponent\"], r[\"gamedate\"]-one) in played, axis=1)\n",
    "    # match game_df's team naming for merge\n",
    "    bkn_sched = bkn_sched.rename(columns={\"opponent\":\"off_team\"})  # match game_df's team naming for merge\n",
    "\n",
    "    g = game_df.copy()  # per-team per-game stats\n",
    "    g[\"gamedate\"] = pd.to_datetime(g[\"gamedate\"]).dt.normalize()\n",
    "    for c in [\"off_team\",\"def_team\"]: g[c] = g[c].str.upper().str.strip()\n",
    "\n",
    "    # keep regular season only\n",
    "    if \"gametype\" in g.columns: g = g[g[\"gametype\"]==2]  # keep regular season only\n",
    "    g = g[(g[\"def_team\"]==team) & (g[\"season\"]==season)].copy()\n",
    "\n",
    "    # eFG% allowed = opponent's (FGM + 0.5*3PM) / FGA, computed from offense rows\n",
    "    g[\"opp_efg_num\"] = g[\"fgmade\"].astype(float) + 0.5*g[\"fg3made\"].astype(float)\n",
    "\n",
    "    # denominator\n",
    "    g[\"opp_efg_den\"] = g[\"fgattempted\"].astype(float)\n",
    "\n",
    "    # eFG% per game\n",
    "    g[\"opp_efg_pct\"] = g[\"opp_efg_num\"]/g[\"opp_efg_den\"]\n",
    "\n",
    "    m = g.merge(bkn_sched, on=[\"gamedate\",\"off_team\"], how=\"left\")\n",
    "\n",
    "    # weighted mean helper (weights = FGA)\n",
    "    w = lambda v,w: float((v*w).sum()/w.sum()) if w.sum() else np.nan\n",
    "\n",
    "    # overall defensive eFG% allowed (weighted by FGA)\n",
    "    overall = w(m[\"opp_efg_pct\"], m[\"opp_efg_den\"])\n",
    "\n",
    "    # defensive eFG% vs opponents on 2nd of B2B\n",
    "    b2b = w(m.loc[m[\"opp_on_second_of_b2b\"]==True,\"opp_efg_pct\"],\n",
    "            m.loc[m[\"opp_on_second_of_b2b\"]==True,\"opp_efg_den\"])\n",
    "\n",
    "    print(\"BKN defensive eFG% (2023–24):\")\n",
    "    print(f\"Overall (weighted): {overall:.3%}\")\n",
    "    print(f\"Opponent of B2B: {b2b:.3%}\")\n",
    "    print(f\"Games: {len(m)}, \\nB2B subset: {int((m['opp_on_second_of_b2b']==True).sum())}\")\n",
    "    return m\n",
    "\n",
    "_ = q5_bkn_def_efg(schedule, game_data)"
   ]
  },
  {
   "cell_type": "markdown",
   "metadata": {},
   "source": [
    "## Comments\n",
    "I flagged games where the opponent was on the 2nd night of a back-to-back (played the day before), then computed Nets defensive eFG% per game from the offense rows (BKN on defense) and compared FGA-weighted averages overall vs. that subset; note: the dataset didn’t provide an eFG% field, so I used the standard basketball definition. The formula applied is eFG% = (FGM + 0.5 × 3PM) / FGA."
   ]
  },
  {
   "cell_type": "code",
   "execution_count": 130,
   "metadata": {},
   "outputs": [
    {
     "name": "stdout",
     "output_type": "stream",
     "text": [
      "[check] team_season_df.head():\n",
      "team  season  games  b2b_per82  fourth_in_6_per82  avg_rest_days\n",
      " ATL    2014     82       21.0               32.0           2.07\n",
      " ATL    2015     82       19.0               30.0           2.09\n",
      " ATL    2016     82       18.0               29.0           2.06\n",
      " ATL    2017     82       15.0               21.0           2.15\n",
      " ATL    2018     82       12.0               21.0           2.16\n",
      "\n",
      "[check] season_trends_df.head():\n",
      " season  avg_b2b_per82  avg_fourth_in_6_per82  avg_rest_days\n",
      "   2014          19.33                  29.60           2.07\n",
      "   2015          17.80                  28.00           2.08\n",
      "   2016          16.37                  27.87           2.07\n",
      "   2017          14.43                  20.37           2.16\n",
      "   2018          13.27                  19.50           2.16\n"
     ]
    },
    {
     "data": {
      "image/png": "[encoded data removed]",
      "text/plain": [
       "<Figure size 640x480 with 1 Axes>"
      ]
     },
     "metadata": {},
     "output_type": "display_data"
    },
    {
     "data": {
      "image/png": "[encoded data removed]",
      "text/plain": [
       "<Figure size 640x480 with 1 Axes>"
      ]
     },
     "metadata": {},
     "output_type": "display_data"
    },
    {
     "name": "stdout",
     "output_type": "stream",
     "text": [
      "\n",
      "Compare:\n",
      "       Metric  2014–2016 Avg  2021–2023 Avg\n",
      "   B2B per-82          17.83          13.84\n",
      "4-in-6 per-82          28.49          23.70\n",
      "Avg rest days           2.07           2.12\n"
     ]
    }
   ],
   "source": [
    "import pandas as pd\n",
    "import numpy as np\n",
    "import matplotlib.pyplot as plt\n",
    "\n",
    "def q6_trends_with_plots(schedule_df):\n",
    "    s = schedule_df.copy()\n",
    "    \n",
    "    s[\"gamedate\"] = pd.to_datetime(s[\"gamedate\"]).dt.normalize()\n",
    "    s[\"team\"] = s[\"team\"].astype(str).str.upper().str.strip()\n",
    "    s = s.dropna(subset=[\"gamedate\", \"team\", \"season\"])\n",
    "\n",
    "    # make sure its in numeric\n",
    "    s[\"season\"] = pd.to_numeric(s[\"season\"], errors=\"coerce\")\n",
    "    s = s.dropna(subset=[\"season\"])\n",
    "\n",
    "    rows = []\n",
    "    for (tm, yr), g in s.groupby([\"team\", \"season\"]):\n",
    "        # sorted days as ints\n",
    "        d = g[\"gamedate\"].sort_values().to_numpy(dtype=\"datetime64[D]\").astype(\"int64\")\n",
    "        n = len(d)\n",
    "        if n == 0:\n",
    "            continue\n",
    "\n",
    "        # days between games\n",
    "        gaps = np.diff(d)\n",
    "        \n",
    "        # back-to-back = 1-day gap\n",
    "        b2b_count = int((gaps == 1).sum())\n",
    "        \n",
    "        # start of 6-night window [D-5, D]\n",
    "        starts = np.searchsorted(d, d - 5)\n",
    "        \n",
    "        # games inside that window for each game\n",
    "        counts = np.arange(n) - starts + 1\n",
    "\n",
    "        # how many are the 4th in that span\n",
    "        four_in_6 = int((counts == 4).sum())\n",
    "\n",
    "        # normalize to per-82 to compare seasons\n",
    "        per82 = lambda x: x * 82 / n\n",
    "        rows.append({\n",
    "            \"team\": tm,\n",
    "            \"season\": int(yr),\n",
    "            \"games\": n,\n",
    "            \"b2b_per82\": per82(b2b_count),\n",
    "            \"fourth_in_6_per82\": per82(four_in_6),\n",
    "            \"avg_rest_days\": float(gaps.mean()) if len(gaps) else np.nan\n",
    "        })\n",
    "\n",
    "    team_season_df = pd.DataFrame(rows)\n",
    "\n",
    "    # averages by season\n",
    "    season_trends_df = (\n",
    "        team_season_df\n",
    "        .groupby(\"season\", as_index=False)\n",
    "        .agg(\n",
    "            avg_b2b_per82=(\"b2b_per82\", \"mean\"),\n",
    "            avg_fourth_in_6_per82=(\"fourth_in_6_per82\", \"mean\"),\n",
    "            avg_rest_days=(\"avg_rest_days\", \"mean\"),\n",
    "        )\n",
    "        .sort_values(\"season\")\n",
    "    )\n",
    "\n",
    "    print(\"[check] team_season_df.head():\")\n",
    "    print(team_season_df.head().round(2).to_string(index=False))\n",
    "    print(\"\\n[check] season_trends_df.head():\")\n",
    "    print(season_trends_df.head().round(2).to_string(index=False))\n",
    "\n",
    "    # 1st plot, average B2B per team per 82\n",
    "    plt.figure()\n",
    "    plt.plot(season_trends_df[\"season\"], season_trends_df[\"avg_b2b_per82\"], marker=\"o\")\n",
    "    plt.title(\"Average Back-to-Backs per Team (per-82)\")\n",
    "    plt.xlabel(\"Season (start year)\")\n",
    "    plt.ylabel(\"B2B per team (per-82)\")\n",
    "    plt.grid(True)\n",
    "    plt.show()\n",
    "\n",
    "    # 2nd plot, average 4th-in-6 per team per 82\n",
    "    plt.figure()\n",
    "    plt.plot(season_trends_df[\"season\"], season_trends_df[\"avg_fourth_in_6_per82\"], marker=\"o\")\n",
    "    plt.title(\"Average 4-in-6 per Team (per-82)\")\n",
    "    plt.xlabel(\"Season (start year)\")\n",
    "    plt.ylabel(\"4-in-6 per team (per-82)\")\n",
    "    plt.grid(True)\n",
    "    plt.show()\n",
    "\n",
    "    # comparison\n",
    "    early = team_season_df[team_season_df[\"season\"].between(2014, 2016)]\n",
    "    late  = team_season_df[team_season_df[\"season\"].between(2021, 2023)]\n",
    "    era_compare = pd.DataFrame({\n",
    "        \"Metric\": [\"B2B per-82\", \"4-in-6 per-82\", \"Avg rest days\"],\n",
    "        \"2014–2016 Avg\": [early[\"b2b_per82\"].mean(), early[\"fourth_in_6_per82\"].mean(), early[\"avg_rest_days\"].mean()],\n",
    "        \"2021–2023 Avg\": [late[\"b2b_per82\"].mean(),  late[\"fourth_in_6_per82\"].mean(),  late[\"avg_rest_days\"].mean()],\n",
    "    }).round(2)\n",
    "    print(\"\\nCompare:\")\n",
    "    print(era_compare.to_string(index=False))\n",
    "\n",
    "    return season_trends_df, team_season_df\n",
    "\n",
    "season_trend, team_season_metrics = q6_trends_with_plots(schedule)"
   ]
  },
  {
   "cell_type": "markdown",
   "metadata": {},
   "source": [
    "Trend #1, Fewer back-to-backs:\n",
    "The “Average Back-to-Backs per Team (per-82)” line drops from ~19 (2014) toward ~13–14 by 2022–2023, with a temporary spike in 2020 from the compressed season. This means recent schedules are less compact, giving teams an extra day off more often.\n",
    "\n",
    "Trend #2, Fewer “4th game in 6 nights:\n",
    "The “Average 4-in-6 per Team (per-82)” line falls from ~29–30 to ~23–24 by 2018, again with a 2020 spike. Teams face dense 6 night stretches less frequently now than in the past.\n",
    "\n",
    "And I also have the comparison, which has average rest days inch up a bit in the recent era."
   ]
  },
  {
   "cell_type": "code",
   "execution_count": 251,
   "metadata": {},
   "outputs": [
    {
     "data": {
      "application/vnd.plotly.v1+json": {
       "config": {
        "plotlyServerURL": "https://plot.ly"
       },
       "data": [
        {
         "customdata": [
          [
           "@ DEN",
           null,
           0
          ],
          [
           "@ CHI",
           2,
           1475.2365254971658
          ],
          [
           "@ POR",
           2,
           2389.1763135109422
          ],
          [
           "@ SAS",
           2,
           676.7756943654268
          ],
          [
           "@ SAC",
           5,
           2150.965415462684
          ],
          [
           "@ GSW",
           2,
           119.0914840814909
          ],
          [
           "@ LAL",
           2,
           555.9704335583473
          ],
          [
           "@ HOU",
           2,
           2209.3632697065273
          ],
          [
           "@ TOR",
           2,
           1795.6305656121658
          ],
          [
           "@ NOP",
           2,
           1792.8835440113019
          ],
          [
           "@ ORL",
           12,
           858.079654564781
          ],
          [
           "@ IND",
           3,
           1107.8426079394014
          ],
          [
           "@ CHA",
           2,
           688.7034288007742
          ],
          [
           "@ CLE",
           3,
           1529.1538380153397
          ],
          [
           "@ NYK",
           2,
           649.611703443185
          ],
          [
           "@ WAS",
           2,
           330.5400607057068
          ],
          [
           "@ PHI",
           2,
           194.1185678485673
          ],
          [
           "@ POR",
           3,
           2389.1763135109422
          ],
          [
           "@ GSW",
           3,
           863.5801574797273
          ],
          [
           "@ UTA",
           8,
           1584.1859128906103
          ],
          [
           "@ MIN",
           2,
           1584.1859128906103
          ],
          [
           "@ SAS",
           2,
           1412.8989028011226
          ],
          [
           "@ DET",
           3,
           984.6364130456426
          ],
          [
           "@ LAC",
           2,
           1898.9610410719042
          ],
          [
           "@ SAC",
           2,
           581.6141577116585
          ],
          [
           "@ HOU",
           2,
           666.4093185203822
          ]
         ],
         "hovertemplate": "venue=Away<br>event=Normal<br>gamedate=%{x|%Y-%m-%d}<br>game_no=%{y}<br>travel_km=%{customdata[2]:.0f}<br>matchup=%{customdata[0]}<br>rest_days=%{customdata[1]}<extra></extra>",
         "legendgroup": "Away, Normal",
         "marker": {
          "color": "#636efa",
          "size": [
           0,
           1475.2365254971658,
           2389.1763135109422,
           676.7756943654268,
           2150.965415462684,
           119.0914840814909,
           555.9704335583473,
           2209.3632697065273,
           1795.6305656121658,
           1792.8835440113019,
           858.079654564781,
           1107.8426079394014,
           688.7034288007742,
           1529.1538380153397,
           649.611703443185,
           330.5400607057068,
           194.1185678485673,
           2389.1763135109422,
           863.5801574797273,
           1584.1859128906103,
           1584.1859128906103,
           1412.8989028011226,
           984.6364130456426,
           1898.9610410719042,
           581.6141577116585,
           666.4093185203822
          ],
          "sizemode": "area",
          "sizeref": 7.414703818374675,
          "symbol": "circle"
         },
         "mode": "markers",
         "name": "Away, Normal",
         "orientation": "v",
         "showlegend": true,
         "type": "scatter",
         "x": [
          "2024-10-24T00:00:00",
          "2024-10-26T00:00:00",
          "2024-11-01T00:00:00",
          "2024-11-19T00:00:00",
          "2024-11-25T00:00:00",
          "2024-11-27T00:00:00",
          "2024-11-29T00:00:00",
          "2024-12-01T00:00:00",
          "2024-12-05T00:00:00",
          "2024-12-07T00:00:00",
          "2024-12-19T00:00:00",
          "2024-12-26T00:00:00",
          "2024-12-28T00:00:00",
          "2025-01-08T00:00:00",
          "2025-01-10T00:00:00",
          "2025-01-12T00:00:00",
          "2025-01-14T00:00:00",
          "2025-01-26T00:00:00",
          "2025-01-29T00:00:00",
          "2025-02-21T00:00:00",
          "2025-02-23T00:00:00",
          "2025-03-02T00:00:00",
          "2025-03-15T00:00:00",
          "2025-03-23T00:00:00",
          "2025-03-25T00:00:00",
          "2025-04-04T00:00:00"
         ],
         "xaxis": "x",
         "y": [
          1,
          2,
          5,
          15,
          17,
          18,
          19,
          20,
          22,
          23,
          24,
          27,
          28,
          34,
          35,
          36,
          37,
          43,
          44,
          53,
          54,
          58,
          65,
          69,
          70,
          75
         ],
         "yaxis": "y"
        },
        {
         "customdata": [
          [
           "@ LAC",
           1,
           1331.0619544656363
          ],
          [
           "@ MIA",
           1,
           328.69194260932414
          ],
          [
           "@ MIL",
           1,
           404.8994208179393
          ]
         ],
         "hovertemplate": "venue=Away<br>event=B2B<br>gamedate=%{x|%Y-%m-%d}<br>game_no=%{y}<br>travel_km=%{customdata[2]:.0f}<br>matchup=%{customdata[0]}<br>rest_days=%{customdata[1]}<extra></extra>",
         "legendgroup": "Away, B2B",
         "marker": {
          "color": "#636efa",
          "size": [
           1331.0619544656363,
           328.69194260932414,
           404.8994208179393
          ],
          "sizemode": "area",
          "sizeref": 7.414703818374675,
          "symbol": "diamond"
         },
         "mode": "markers",
         "name": "Away, B2B",
         "orientation": "v",
         "showlegend": true,
         "type": "scatter",
         "x": [
          "2024-11-02T00:00:00",
          "2024-12-20T00:00:00",
          "2025-03-16T00:00:00"
         ],
         "xaxis": "x",
         "y": [
          6,
          25,
          66
         ],
         "yaxis": "y"
        },
        {
         "customdata": [
          [
           "@ DEN",
           2,
           813.5430773265962
          ],
          [
           "@ BKN",
           2,
           2133.435753945515
          ],
          [
           "@ ATL",
           2,
           1200.326711246815
          ],
          [
           "@ MEM",
           2,
           678.2333476422194
          ],
          [
           "@ BOS",
           2,
           2402.3640371533947
          ],
          [
           "@ UTA",
           2,
           814.3565115047714
          ],
          [
           "@ NOP",
           2,
           2305.8949625261835
          ]
         ],
         "hovertemplate": "venue=Away<br>event=4-in-6<br>gamedate=%{x|%Y-%m-%d}<br>game_no=%{y}<br>travel_km=%{customdata[2]:.0f}<br>matchup=%{customdata[0]}<br>rest_days=%{customdata[1]}<extra></extra>",
         "legendgroup": "Away, 4-in-6",
         "marker": {
          "color": "#636efa",
          "size": [
           813.5430773265962,
           2133.435753945515,
           1200.326711246815,
           678.2333476422194,
           2402.3640371533947,
           814.3565115047714,
           2305.8949625261835
          ],
          "sizemode": "area",
          "sizeref": 7.414703818374675,
          "symbol": "square"
         },
         "mode": "markers",
         "name": "Away, 4-in-6",
         "orientation": "v",
         "showlegend": true,
         "type": "scatter",
         "x": [
          "2024-11-06T00:00:00",
          "2025-02-26T00:00:00",
          "2025-02-28T00:00:00",
          "2025-03-05T00:00:00",
          "2025-03-12T00:00:00",
          "2025-04-11T00:00:00",
          "2025-04-13T00:00:00"
         ],
         "xaxis": "x",
         "y": [
          8,
          56,
          57,
          60,
          64,
          79,
          80
         ],
         "yaxis": "y"
        },
        {
         "customdata": [
          [
           "@ DAL",
           1,
           304.24962892485684
          ],
          [
           "@ MEM",
           1,
           678.2333476422194
          ],
          [
           "@ MIN",
           1,
           1117.2275770235233
          ],
          [
           "@ PHX",
           1,
           1352.0334416494093
          ]
         ],
         "hovertemplate": "venue=Away<br>event=B2B & 4-in-6<br>gamedate=%{x|%Y-%m-%d}<br>game_no=%{y}<br>travel_km=%{customdata[2]:.0f}<br>matchup=%{customdata[0]}<br>rest_days=%{customdata[1]}<extra></extra>",
         "legendgroup": "Away, B2B & 4-in-6",
         "marker": {
          "color": "#636efa",
          "size": [
           304.24962892485684,
           678.2333476422194,
           1117.2275770235233,
           1352.0334416494093
          ],
          "sizemode": "area",
          "sizeref": 7.414703818374675,
          "symbol": "x"
         },
         "mode": "markers",
         "name": "Away, B2B & 4-in-6",
         "orientation": "v",
         "showlegend": true,
         "type": "scatter",
         "x": [
          "2025-01-17T00:00:00",
          "2025-02-08T00:00:00",
          "2025-02-13T00:00:00",
          "2025-04-09T00:00:00"
         ],
         "xaxis": "x",
         "y": [
          39,
          49,
          52,
          78
         ],
         "yaxis": "y"
        },
        {
         "customdata": [
          [
           "vs SAS",
           3,
           0
          ],
          [
           "vs HOU",
           2,
           813.5430773265962
          ],
          [
           "vs GSW",
           2,
           0
          ],
          [
           "vs DAL",
           2,
           0
          ],
          [
           "vs UTA",
           2,
           666.4093185203822
          ],
          [
           "vs WAS",
           3,
           1972.1433101152058
          ],
          [
           "vs CLE",
           2,
           2021.3160764849936
          ],
          [
           "vs UTA",
           3,
           0
          ],
          [
           "vs SAC",
           3,
           2227.9673418448356
          ],
          [
           "vs MIL",
           2,
           0
          ],
          [
           "vs PHX",
           2,
           0
          ],
          [
           "vs TOR",
           2,
           0
          ],
          [
           "vs DEN",
           2,
           0
          ],
          [
           "vs PHI",
           3,
           1178.913771740545
          ],
          [
           "vs CHA",
           2,
           0
          ],
          [
           "vs MEM",
           2,
           2150.965415462684
          ],
          [
           "vs IND",
           2,
           0
          ],
          [
           "vs CHI",
           2,
           0
          ],
          [
           "vs DET",
           2,
           0
          ],
          [
           "vs LAL",
           2,
           666.4093185203822
          ],
          [
           "vs LAL",
           2,
           0
          ]
         ],
         "hovertemplate": "venue=Home<br>event=Normal<br>gamedate=%{x|%Y-%m-%d}<br>game_no=%{y}<br>travel_km=%{customdata[2]:.0f}<br>matchup=%{customdata[0]}<br>rest_days=%{customdata[1]}<extra></extra>",
         "legendgroup": "Home, Normal",
         "marker": {
          "color": "#EF553B",
          "size": [
           0,
           813.5430773265962,
           0,
           0,
           666.4093185203822,
           1972.1433101152058,
           2021.3160764849936,
           0,
           2227.9673418448356,
           0,
           0,
           0,
           0,
           1178.913771740545,
           0,
           2150.965415462684,
           0,
           0,
           0,
           666.4093185203822,
           0
          ],
          "sizemode": "area",
          "sizeref": 7.414703818374675,
          "symbol": "circle"
         },
         "mode": "markers",
         "name": "Home, Normal",
         "orientation": "v",
         "showlegend": true,
         "type": "scatter",
         "x": [
          "2024-10-30T00:00:00",
          "2024-11-08T00:00:00",
          "2024-11-10T00:00:00",
          "2024-11-17T00:00:00",
          "2024-12-03T00:00:00",
          "2024-12-23T00:00:00",
          "2025-01-16T00:00:00",
          "2025-01-22T00:00:00",
          "2025-02-01T00:00:00",
          "2025-02-03T00:00:00",
          "2025-02-05T00:00:00",
          "2025-02-07T00:00:00",
          "2025-03-09T00:00:00",
          "2025-03-19T00:00:00",
          "2025-03-21T00:00:00",
          "2025-03-27T00:00:00",
          "2025-03-29T00:00:00",
          "2025-03-31T00:00:00",
          "2025-04-02T00:00:00",
          "2025-04-06T00:00:00",
          "2025-04-08T00:00:00"
         ],
         "xaxis": "x",
         "y": [
          4,
          9,
          10,
          14,
          21,
          26,
          38,
          41,
          45,
          46,
          47,
          48,
          62,
          67,
          68,
          71,
          72,
          73,
          74,
          76,
          77
         ],
         "yaxis": "y"
        },
        {
         "customdata": [
          [
           "vs ATL",
           1,
           1111.8193769290913
          ],
          [
           "vs MEM",
           1,
           1510.9531727847693
          ],
          [
           "vs DAL",
           1,
           0
          ],
          [
           "vs MIN",
           1,
           1117.2275770235233
          ]
         ],
         "hovertemplate": "venue=Home<br>event=B2B<br>gamedate=%{x|%Y-%m-%d}<br>game_no=%{y}<br>travel_km=%{customdata[2]:.0f}<br>matchup=%{customdata[0]}<br>rest_days=%{customdata[1]}<extra></extra>",
         "legendgroup": "Home, B2B",
         "marker": {
          "color": "#EF553B",
          "size": [
           1111.8193769290913,
           1510.9531727847693,
           0,
           1117.2275770235233
          ],
          "sizemode": "area",
          "sizeref": 7.414703818374675,
          "symbol": "diamond"
         },
         "mode": "markers",
         "name": "Home, B2B",
         "orientation": "v",
         "showlegend": true,
         "type": "scatter",
         "x": [
          "2024-10-27T00:00:00",
          "2024-12-29T00:00:00",
          "2025-01-23T00:00:00",
          "2025-02-24T00:00:00"
         ],
         "xaxis": "x",
         "y": [
          3,
          29,
          42,
          55
         ],
         "yaxis": "y"
        },
        {
         "customdata": [
          [
           "vs ORL",
           2,
           1898.9610410719042
          ],
          [
           "vs NOP",
           2,
           0
          ],
          [
           "vs PHX",
           2,
           0
          ],
          [
           "vs MIN",
           2,
           0
          ],
          [
           "vs LAC",
           2,
           0
          ],
          [
           "vs BOS",
           2,
           0
          ],
          [
           "vs BKN",
           2,
           304.24962892485684
          ],
          [
           "vs NOP",
           2,
           678.2333476422194
          ],
          [
           "vs MIA",
           2,
           0
          ],
          [
           "vs POR",
           2,
           678.2333476422194
          ]
         ],
         "hovertemplate": "venue=Home<br>event=4-in-6<br>gamedate=%{x|%Y-%m-%d}<br>game_no=%{y}<br>travel_km=%{customdata[2]:.0f}<br>matchup=%{customdata[0]}<br>rest_days=%{customdata[1]}<extra></extra>",
         "legendgroup": "Home, 4-in-6",
         "marker": {
          "color": "#EF553B",
          "size": [
           1898.9610410719042,
           0,
           0,
           0,
           0,
           0,
           304.24962892485684,
           678.2333476422194,
           0,
           678.2333476422194
          ],
          "sizemode": "area",
          "sizeref": 7.414703818374675,
          "symbol": "square"
         },
         "mode": "markers",
         "name": "Home, 4-in-6",
         "orientation": "v",
         "showlegend": true,
         "type": "scatter",
         "x": [
          "2024-11-04T00:00:00",
          "2024-11-13T00:00:00",
          "2024-11-15T00:00:00",
          "2024-12-31T00:00:00",
          "2025-01-02T00:00:00",
          "2025-01-05T00:00:00",
          "2025-01-19T00:00:00",
          "2025-02-10T00:00:00",
          "2025-02-12T00:00:00",
          "2025-03-07T00:00:00"
         ],
         "xaxis": "x",
         "y": [
          7,
          12,
          13,
          30,
          31,
          33,
          40,
          50,
          51,
          61
         ],
         "yaxis": "y"
        },
        {
         "customdata": [
          [
           "vs LAC",
           1,
           0
          ],
          [
           "vs POR",
           1,
           676.7756943654268
          ],
          [
           "vs NYK",
           1,
           0
          ],
          [
           "vs HOU",
           1,
           676.7756943654268
          ],
          [
           "vs DEN",
           1,
           0
          ]
         ],
         "hovertemplate": "venue=Home<br>event=B2B & 4-in-6<br>gamedate=%{x|%Y-%m-%d}<br>game_no=%{y}<br>travel_km=%{customdata[2]:.0f}<br>matchup=%{customdata[0]}<br>rest_days=%{customdata[1]}<extra></extra>",
         "legendgroup": "Home, B2B & 4-in-6",
         "marker": {
          "color": "#EF553B",
          "size": [
           0,
           676.7756943654268,
           0,
           676.7756943654268,
           0
          ],
          "sizemode": "area",
          "sizeref": 7.414703818374675,
          "symbol": "x"
         },
         "mode": "markers",
         "name": "Home, B2B & 4-in-6",
         "orientation": "v",
         "showlegend": true,
         "type": "scatter",
         "x": [
          "2024-11-11T00:00:00",
          "2024-11-20T00:00:00",
          "2025-01-03T00:00:00",
          "2025-03-03T00:00:00",
          "2025-03-10T00:00:00"
         ],
         "xaxis": "x",
         "y": [
          11,
          16,
          32,
          59,
          63
         ],
         "yaxis": "y"
        }
       ],
       "layout": {
        "autosize": true,
        "legend": {
         "itemsizing": "constant",
         "title": {
          "text": "venue, event"
         },
         "tracegroupgap": 0
        },
        "margin": {
         "t": 60
        },
        "template": {
         "data": {
          "bar": [
           {
            "error_x": {
             "color": "#2a3f5f"
            },
            "error_y": {
             "color": "#2a3f5f"
            },
            "marker": {
             "line": {
              "color": "#E5ECF6",
              "width": 0.5
             },
             "pattern": {
              "fillmode": "overlay",
              "size": 10,
              "solidity": 0.2
             }
            },
            "type": "bar"
           }
          ],
          "barpolar": [
           {
            "marker": {
             "line": {
              "color": "#E5ECF6",
              "width": 0.5
             },
             "pattern": {
              "fillmode": "overlay",
              "size": 10,
              "solidity": 0.2
             }
            },
            "type": "barpolar"
           }
          ],
          "carpet": [
           {
            "aaxis": {
             "endlinecolor": "#2a3f5f",
             "gridcolor": "white",
             "linecolor": "white",
             "minorgridcolor": "white",
             "startlinecolor": "#2a3f5f"
            },
            "baxis": {
             "endlinecolor": "#2a3f5f",
             "gridcolor": "white",
             "linecolor": "white",
             "minorgridcolor": "white",
             "startlinecolor": "#2a3f5f"
            },
            "type": "carpet"
           }
          ],
          "choropleth": [
           {
            "colorbar": {
             "outlinewidth": 0,
             "ticks": ""
            },
            "type": "choropleth"
           }
          ],
          "contour": [
           {
            "colorbar": {
             "outlinewidth": 0,
             "ticks": ""
            },
            "colorscale": [
             [
              0,
              "#0d0887"
             ],
             [
              0.1111111111111111,
              "#46039f"
             ],
             [
              0.2222222222222222,
              "#7201a8"
             ],
             [
              0.3333333333333333,
              "#9c179e"
             ],
             [
              0.4444444444444444,
              "#bd3786"
             ],
             [
              0.5555555555555556,
              "#d8576b"
             ],
             [
              0.6666666666666666,
              "#ed7953"
             ],
             [
              0.7777777777777778,
              "#fb9f3a"
             ],
             [
              0.8888888888888888,
              "#fdca26"
             ],
             [
              1,
              "#f0f921"
             ]
            ],
            "type": "contour"
           }
          ],
          "contourcarpet": [
           {
            "colorbar": {
             "outlinewidth": 0,
             "ticks": ""
            },
            "type": "contourcarpet"
           }
          ],
          "heatmap": [
           {
            "colorbar": {
             "outlinewidth": 0,
             "ticks": ""
            },
            "colorscale": [
             [
              0,
              "#0d0887"
             ],
             [
              0.1111111111111111,
              "#46039f"
             ],
             [
              0.2222222222222222,
              "#7201a8"
             ],
             [
              0.3333333333333333,
              "#9c179e"
             ],
             [
              0.4444444444444444,
              "#bd3786"
             ],
             [
              0.5555555555555556,
              "#d8576b"
             ],
             [
              0.6666666666666666,
              "#ed7953"
             ],
             [
              0.7777777777777778,
              "#fb9f3a"
             ],
             [
              0.8888888888888888,
              "#fdca26"
             ],
             [
              1,
              "#f0f921"
             ]
            ],
            "type": "heatmap"
           }
          ],
          "heatmapgl": [
           {
            "colorbar": {
             "outlinewidth": 0,
             "ticks": ""
            },
            "colorscale": [
             [
              0,
              "#0d0887"
             ],
             [
              0.1111111111111111,
              "#46039f"
             ],
             [
              0.2222222222222222,
              "#7201a8"
             ],
             [
              0.3333333333333333,
              "#9c179e"
             ],
             [
              0.4444444444444444,
              "#bd3786"
             ],
             [
              0.5555555555555556,
              "#d8576b"
             ],
             [
              0.6666666666666666,
              "#ed7953"
             ],
             [
              0.7777777777777778,
              "#fb9f3a"
             ],
             [
              0.8888888888888888,
              "#fdca26"
             ],
             [
              1,
              "#f0f921"
             ]
            ],
            "type": "heatmapgl"
           }
          ],
          "histogram": [
           {
            "marker": {
             "pattern": {
              "fillmode": "overlay",
              "size": 10,
              "solidity": 0.2
             }
            },
            "type": "histogram"
           }
          ],
          "histogram2d": [
           {
            "colorbar": {
             "outlinewidth": 0,
             "ticks": ""
            },
            "colorscale": [
             [
              0,
              "#0d0887"
             ],
             [
              0.1111111111111111,
              "#46039f"
             ],
             [
              0.2222222222222222,
              "#7201a8"
             ],
             [
              0.3333333333333333,
              "#9c179e"
             ],
             [
              0.4444444444444444,
              "#bd3786"
             ],
             [
              0.5555555555555556,
              "#d8576b"
             ],
             [
              0.6666666666666666,
              "#ed7953"
             ],
             [
              0.7777777777777778,
              "#fb9f3a"
             ],
             [
              0.8888888888888888,
              "#fdca26"
             ],
             [
              1,
              "#f0f921"
             ]
            ],
            "type": "histogram2d"
           }
          ],
          "histogram2dcontour": [
           {
            "colorbar": {
             "outlinewidth": 0,
             "ticks": ""
            },
            "colorscale": [
             [
              0,
              "#0d0887"
             ],
             [
              0.1111111111111111,
              "#46039f"
             ],
             [
              0.2222222222222222,
              "#7201a8"
             ],
             [
              0.3333333333333333,
              "#9c179e"
             ],
             [
              0.4444444444444444,
              "#bd3786"
             ],
             [
              0.5555555555555556,
              "#d8576b"
             ],
             [
              0.6666666666666666,
              "#ed7953"
             ],
             [
              0.7777777777777778,
              "#fb9f3a"
             ],
             [
              0.8888888888888888,
              "#fdca26"
             ],
             [
              1,
              "#f0f921"
             ]
            ],
            "type": "histogram2dcontour"
           }
          ],
          "mesh3d": [
           {
            "colorbar": {
             "outlinewidth": 0,
             "ticks": ""
            },
            "type": "mesh3d"
           }
          ],
          "parcoords": [
           {
            "line": {
             "colorbar": {
              "outlinewidth": 0,
              "ticks": ""
             }
            },
            "type": "parcoords"
           }
          ],
          "pie": [
           {
            "automargin": true,
            "type": "pie"
           }
          ],
          "scatter": [
           {
            "fillpattern": {
             "fillmode": "overlay",
             "size": 10,
             "solidity": 0.2
            },
            "type": "scatter"
           }
          ],
          "scatter3d": [
           {
            "line": {
             "colorbar": {
              "outlinewidth": 0,
              "ticks": ""
             }
            },
            "marker": {
             "colorbar": {
              "outlinewidth": 0,
              "ticks": ""
             }
            },
            "type": "scatter3d"
           }
          ],
          "scattercarpet": [
           {
            "marker": {
             "colorbar": {
              "outlinewidth": 0,
              "ticks": ""
             }
            },
            "type": "scattercarpet"
           }
          ],
          "scattergeo": [
           {
            "marker": {
             "colorbar": {
              "outlinewidth": 0,
              "ticks": ""
             }
            },
            "type": "scattergeo"
           }
          ],
          "scattergl": [
           {
            "marker": {
             "colorbar": {
              "outlinewidth": 0,
              "ticks": ""
             }
            },
            "type": "scattergl"
           }
          ],
          "scattermapbox": [
           {
            "marker": {
             "colorbar": {
              "outlinewidth": 0,
              "ticks": ""
             }
            },
            "type": "scattermapbox"
           }
          ],
          "scatterpolar": [
           {
            "marker": {
             "colorbar": {
              "outlinewidth": 0,
              "ticks": ""
             }
            },
            "type": "scatterpolar"
           }
          ],
          "scatterpolargl": [
           {
            "marker": {
             "colorbar": {
              "outlinewidth": 0,
              "ticks": ""
             }
            },
            "type": "scatterpolargl"
           }
          ],
          "scatterternary": [
           {
            "marker": {
             "colorbar": {
              "outlinewidth": 0,
              "ticks": ""
             }
            },
            "type": "scatterternary"
           }
          ],
          "surface": [
           {
            "colorbar": {
             "outlinewidth": 0,
             "ticks": ""
            },
            "colorscale": [
             [
              0,
              "#0d0887"
             ],
             [
              0.1111111111111111,
              "#46039f"
             ],
             [
              0.2222222222222222,
              "#7201a8"
             ],
             [
              0.3333333333333333,
              "#9c179e"
             ],
             [
              0.4444444444444444,
              "#bd3786"
             ],
             [
              0.5555555555555556,
              "#d8576b"
             ],
             [
              0.6666666666666666,
              "#ed7953"
             ],
             [
              0.7777777777777778,
              "#fb9f3a"
             ],
             [
              0.8888888888888888,
              "#fdca26"
             ],
             [
              1,
              "#f0f921"
             ]
            ],
            "type": "surface"
           }
          ],
          "table": [
           {
            "cells": {
             "fill": {
              "color": "#EBF0F8"
             },
             "line": {
              "color": "white"
             }
            },
            "header": {
             "fill": {
              "color": "#C8D4E3"
             },
             "line": {
              "color": "white"
             }
            },
            "type": "table"
           }
          ]
         },
         "layout": {
          "annotationdefaults": {
           "arrowcolor": "#2a3f5f",
           "arrowhead": 0,
           "arrowwidth": 1
          },
          "autotypenumbers": "strict",
          "coloraxis": {
           "colorbar": {
            "outlinewidth": 0,
            "ticks": ""
           }
          },
          "colorscale": {
           "diverging": [
            [
             0,
             "#8e0152"
            ],
            [
             0.1,
             "#c51b7d"
            ],
            [
             0.2,
             "#de77ae"
            ],
            [
             0.3,
             "#f1b6da"
            ],
            [
             0.4,
             "#fde0ef"
            ],
            [
             0.5,
             "#f7f7f7"
            ],
            [
             0.6,
             "#e6f5d0"
            ],
            [
             0.7,
             "#b8e186"
            ],
            [
             0.8,
             "#7fbc41"
            ],
            [
             0.9,
             "#4d9221"
            ],
            [
             1,
             "#276419"
            ]
           ],
           "sequential": [
            [
             0,
             "#0d0887"
            ],
            [
             0.1111111111111111,
             "#46039f"
            ],
            [
             0.2222222222222222,
             "#7201a8"
            ],
            [
             0.3333333333333333,
             "#9c179e"
            ],
            [
             0.4444444444444444,
             "#bd3786"
            ],
            [
             0.5555555555555556,
             "#d8576b"
            ],
            [
             0.6666666666666666,
             "#ed7953"
            ],
            [
             0.7777777777777778,
             "#fb9f3a"
            ],
            [
             0.8888888888888888,
             "#fdca26"
            ],
            [
             1,
             "#f0f921"
            ]
           ],
           "sequentialminus": [
            [
             0,
             "#0d0887"
            ],
            [
             0.1111111111111111,
             "#46039f"
            ],
            [
             0.2222222222222222,
             "#7201a8"
            ],
            [
             0.3333333333333333,
             "#9c179e"
            ],
            [
             0.4444444444444444,
             "#bd3786"
            ],
            [
             0.5555555555555556,
             "#d8576b"
            ],
            [
             0.6666666666666666,
             "#ed7953"
            ],
            [
             0.7777777777777778,
             "#fb9f3a"
            ],
            [
             0.8888888888888888,
             "#fdca26"
            ],
            [
             1,
             "#f0f921"
            ]
           ]
          },
          "colorway": [
           "#636efa",
           "#EF553B",
           "#00cc96",
           "#ab63fa",
           "#FFA15A",
           "#19d3f3",
           "#FF6692",
           "#B6E880",
           "#FF97FF",
           "#FECB52"
          ],
          "font": {
           "color": "#2a3f5f"
          },
          "geo": {
           "bgcolor": "white",
           "lakecolor": "white",
           "landcolor": "#E5ECF6",
           "showlakes": true,
           "showland": true,
           "subunitcolor": "white"
          },
          "hoverlabel": {
           "align": "left"
          },
          "hovermode": "closest",
          "mapbox": {
           "style": "light"
          },
          "paper_bgcolor": "white",
          "plot_bgcolor": "#E5ECF6",
          "polar": {
           "angularaxis": {
            "gridcolor": "white",
            "linecolor": "white",
            "ticks": ""
           },
           "bgcolor": "#E5ECF6",
           "radialaxis": {
            "gridcolor": "white",
            "linecolor": "white",
            "ticks": ""
           }
          },
          "scene": {
           "xaxis": {
            "backgroundcolor": "#E5ECF6",
            "gridcolor": "white",
            "gridwidth": 2,
            "linecolor": "white",
            "showbackground": true,
            "ticks": "",
            "zerolinecolor": "white"
           },
           "yaxis": {
            "backgroundcolor": "#E5ECF6",
            "gridcolor": "white",
            "gridwidth": 2,
            "linecolor": "white",
            "showbackground": true,
            "ticks": "",
            "zerolinecolor": "white"
           },
           "zaxis": {
            "backgroundcolor": "#E5ECF6",
            "gridcolor": "white",
            "gridwidth": 2,
            "linecolor": "white",
            "showbackground": true,
            "ticks": "",
            "zerolinecolor": "white"
           }
          },
          "shapedefaults": {
           "line": {
            "color": "#2a3f5f"
           }
          },
          "ternary": {
           "aaxis": {
            "gridcolor": "white",
            "linecolor": "white",
            "ticks": ""
           },
           "baxis": {
            "gridcolor": "white",
            "linecolor": "white",
            "ticks": ""
           },
           "bgcolor": "#E5ECF6",
           "caxis": {
            "gridcolor": "white",
            "linecolor": "white",
            "ticks": ""
           }
          },
          "title": {
           "x": 0.05
          },
          "xaxis": {
           "automargin": true,
           "gridcolor": "white",
           "linecolor": "white",
           "ticks": "",
           "title": {
            "standoff": 15
           },
           "zerolinecolor": "white",
           "zerolinewidth": 2
          },
          "yaxis": {
           "automargin": true,
           "gridcolor": "white",
           "linecolor": "white",
           "ticks": "",
           "title": {
            "standoff": 15
           },
           "zerolinecolor": "white",
           "zerolinewidth": 2
          }
         }
        },
        "title": {
         "text": "OKC — 2024-25 Draft Schedule"
        },
        "xaxis": {
         "anchor": "y",
         "autorange": true,
         "domain": [
          0,
          1
         ],
         "range": [
          "2024-10-13 15:51:22.0808",
          "2025-04-25 16:04:03.0361"
         ],
         "title": {
          "text": "Date"
         },
         "type": "date"
        },
        "yaxis": {
         "anchor": "x",
         "autorange": true,
         "domain": [
          0,
          1
         ],
         "range": [
          -7.9926373163800815,
          91.25138906835849
         ],
         "title": {
          "text": "Game"
         },
         "type": "linear"
        }
       }
      },
      "image/png": "[encoded data removed]",
      "text/html": [
       "<div>                            <div id=\"d69acdf5-1bb8-4d6c-b3f1-a31c04cbe045\" class=\"plotly-graph-div\" style=\"height:525px; width:100%;\"></div>            <script type=\"text/javascript\">                require([\"plotly\"], function(Plotly) {                    window.PLOTLYENV=window.PLOTLYENV || {};                                    if (document.getElementById(\"d69acdf5-1bb8-4d6c-b3f1-a31c04cbe045\")) {                    Plotly.newPlot(                        \"d69acdf5-1bb8-4d6c-b3f1-a31c04cbe045\",                        [{\"customdata\":[[\"@ DEN\",null,0.0],[\"@ CHI\",2.0,1475.2365254971658],[\"@ POR\",2.0,2389.1763135109422],[\"@ SAS\",2.0,676.7756943654268],[\"@ SAC\",5.0,2150.965415462684],[\"@ GSW\",2.0,119.0914840814909],[\"@ LAL\",2.0,555.9704335583473],[\"@ HOU\",2.0,2209.3632697065273],[\"@ TOR\",2.0,1795.6305656121658],[\"@ NOP\",2.0,1792.8835440113019],[\"@ ORL\",12.0,858.079654564781],[\"@ IND\",3.0,1107.8426079394014],[\"@ CHA\",2.0,688.7034288007742],[\"@ CLE\",3.0,1529.1538380153397],[\"@ NYK\",2.0,649.611703443185],[\"@ WAS\",2.0,330.5400607057068],[\"@ PHI\",2.0,194.1185678485673],[\"@ POR\",3.0,2389.1763135109422],[\"@ GSW\",3.0,863.5801574797273],[\"@ UTA\",8.0,1584.1859128906103],[\"@ MIN\",2.0,1584.1859128906103],[\"@ SAS\",2.0,1412.8989028011226],[\"@ DET\",3.0,984.6364130456426],[\"@ LAC\",2.0,1898.9610410719042],[\"@ SAC\",2.0,581.6141577116585],[\"@ HOU\",2.0,666.4093185203822]],\"hovertemplate\":\"venue=Away\\u003cbr\\u003eevent=Normal\\u003cbr\\u003egamedate=%{x|%Y-%m-%d}\\u003cbr\\u003egame_no=%{y}\\u003cbr\\u003etravel_km=%{customdata[2]:.0f}\\u003cbr\\u003ematchup=%{customdata[0]}\\u003cbr\\u003erest_days=%{customdata[1]}\\u003cextra\\u003e\\u003c\\u002fextra\\u003e\",\"legendgroup\":\"Away, Normal\",\"marker\":{\"color\":\"#636efa\",\"size\":[0.0,1475.2365254971658,2389.1763135109422,676.7756943654268,2150.965415462684,119.0914840814909,555.9704335583473,2209.3632697065273,1795.6305656121658,1792.8835440113019,858.079654564781,1107.8426079394014,688.7034288007742,1529.1538380153397,649.611703443185,330.5400607057068,194.1185678485673,2389.1763135109422,863.5801574797273,1584.1859128906103,1584.1859128906103,1412.8989028011226,984.6364130456426,1898.9610410719042,581.6141577116585,666.4093185203822],\"sizemode\":\"area\",\"sizeref\":7.414703818374675,\"symbol\":\"circle\"},\"mode\":\"markers\",\"name\":\"Away, Normal\",\"orientation\":\"v\",\"showlegend\":true,\"x\":[\"2024-10-24T00:00:00\",\"2024-10-26T00:00:00\",\"2024-11-01T00:00:00\",\"2024-11-19T00:00:00\",\"2024-11-25T00:00:00\",\"2024-11-27T00:00:00\",\"2024-11-29T00:00:00\",\"2024-12-01T00:00:00\",\"2024-12-05T00:00:00\",\"2024-12-07T00:00:00\",\"2024-12-19T00:00:00\",\"2024-12-26T00:00:00\",\"2024-12-28T00:00:00\",\"2025-01-08T00:00:00\",\"2025-01-10T00:00:00\",\"2025-01-12T00:00:00\",\"2025-01-14T00:00:00\",\"2025-01-26T00:00:00\",\"2025-01-29T00:00:00\",\"2025-02-21T00:00:00\",\"2025-02-23T00:00:00\",\"2025-03-02T00:00:00\",\"2025-03-15T00:00:00\",\"2025-03-23T00:00:00\",\"2025-03-25T00:00:00\",\"2025-04-04T00:00:00\"],\"xaxis\":\"x\",\"y\":[1,2,5,15,17,18,19,20,22,23,24,27,28,34,35,36,37,43,44,53,54,58,65,69,70,75],\"yaxis\":\"y\",\"type\":\"scatter\"},{\"customdata\":[[\"@ LAC\",1.0,1331.0619544656363],[\"@ MIA\",1.0,328.69194260932414],[\"@ MIL\",1.0,404.8994208179393]],\"hovertemplate\":\"venue=Away\\u003cbr\\u003eevent=B2B\\u003cbr\\u003egamedate=%{x|%Y-%m-%d}\\u003cbr\\u003egame_no=%{y}\\u003cbr\\u003etravel_km=%{customdata[2]:.0f}\\u003cbr\\u003ematchup=%{customdata[0]}\\u003cbr\\u003erest_days=%{customdata[1]}\\u003cextra\\u003e\\u003c\\u002fextra\\u003e\",\"legendgroup\":\"Away, B2B\",\"marker\":{\"color\":\"#636efa\",\"size\":[1331.0619544656363,328.69194260932414,404.8994208179393],\"sizemode\":\"area\",\"sizeref\":7.414703818374675,\"symbol\":\"diamond\"},\"mode\":\"markers\",\"name\":\"Away, B2B\",\"orientation\":\"v\",\"showlegend\":true,\"x\":[\"2024-11-02T00:00:00\",\"2024-12-20T00:00:00\",\"2025-03-16T00:00:00\"],\"xaxis\":\"x\",\"y\":[6,25,66],\"yaxis\":\"y\",\"type\":\"scatter\"},{\"customdata\":[[\"@ DEN\",2.0,813.5430773265962],[\"@ BKN\",2.0,2133.435753945515],[\"@ ATL\",2.0,1200.326711246815],[\"@ MEM\",2.0,678.2333476422194],[\"@ BOS\",2.0,2402.3640371533947],[\"@ UTA\",2.0,814.3565115047714],[\"@ NOP\",2.0,2305.8949625261835]],\"hovertemplate\":\"venue=Away\\u003cbr\\u003eevent=4-in-6\\u003cbr\\u003egamedate=%{x|%Y-%m-%d}\\u003cbr\\u003egame_no=%{y}\\u003cbr\\u003etravel_km=%{customdata[2]:.0f}\\u003cbr\\u003ematchup=%{customdata[0]}\\u003cbr\\u003erest_days=%{customdata[1]}\\u003cextra\\u003e\\u003c\\u002fextra\\u003e\",\"legendgroup\":\"Away, 4-in-6\",\"marker\":{\"color\":\"#636efa\",\"size\":[813.5430773265962,2133.435753945515,1200.326711246815,678.2333476422194,2402.3640371533947,814.3565115047714,2305.8949625261835],\"sizemode\":\"area\",\"sizeref\":7.414703818374675,\"symbol\":\"square\"},\"mode\":\"markers\",\"name\":\"Away, 4-in-6\",\"orientation\":\"v\",\"showlegend\":true,\"x\":[\"2024-11-06T00:00:00\",\"2025-02-26T00:00:00\",\"2025-02-28T00:00:00\",\"2025-03-05T00:00:00\",\"2025-03-12T00:00:00\",\"2025-04-11T00:00:00\",\"2025-04-13T00:00:00\"],\"xaxis\":\"x\",\"y\":[8,56,57,60,64,79,80],\"yaxis\":\"y\",\"type\":\"scatter\"},{\"customdata\":[[\"@ DAL\",1.0,304.24962892485684],[\"@ MEM\",1.0,678.2333476422194],[\"@ MIN\",1.0,1117.2275770235233],[\"@ PHX\",1.0,1352.0334416494093]],\"hovertemplate\":\"venue=Away\\u003cbr\\u003eevent=B2B & 4-in-6\\u003cbr\\u003egamedate=%{x|%Y-%m-%d}\\u003cbr\\u003egame_no=%{y}\\u003cbr\\u003etravel_km=%{customdata[2]:.0f}\\u003cbr\\u003ematchup=%{customdata[0]}\\u003cbr\\u003erest_days=%{customdata[1]}\\u003cextra\\u003e\\u003c\\u002fextra\\u003e\",\"legendgroup\":\"Away, B2B & 4-in-6\",\"marker\":{\"color\":\"#636efa\",\"size\":[304.24962892485684,678.2333476422194,1117.2275770235233,1352.0334416494093],\"sizemode\":\"area\",\"sizeref\":7.414703818374675,\"symbol\":\"x\"},\"mode\":\"markers\",\"name\":\"Away, B2B & 4-in-6\",\"orientation\":\"v\",\"showlegend\":true,\"x\":[\"2025-01-17T00:00:00\",\"2025-02-08T00:00:00\",\"2025-02-13T00:00:00\",\"2025-04-09T00:00:00\"],\"xaxis\":\"x\",\"y\":[39,49,52,78],\"yaxis\":\"y\",\"type\":\"scatter\"},{\"customdata\":[[\"vs SAS\",3.0,0.0],[\"vs HOU\",2.0,813.5430773265962],[\"vs GSW\",2.0,0.0],[\"vs DAL\",2.0,0.0],[\"vs UTA\",2.0,666.4093185203822],[\"vs WAS\",3.0,1972.1433101152058],[\"vs CLE\",2.0,2021.3160764849936],[\"vs UTA\",3.0,0.0],[\"vs SAC\",3.0,2227.9673418448356],[\"vs MIL\",2.0,0.0],[\"vs PHX\",2.0,0.0],[\"vs TOR\",2.0,0.0],[\"vs DEN\",2.0,0.0],[\"vs PHI\",3.0,1178.913771740545],[\"vs CHA\",2.0,0.0],[\"vs MEM\",2.0,2150.965415462684],[\"vs IND\",2.0,0.0],[\"vs CHI\",2.0,0.0],[\"vs DET\",2.0,0.0],[\"vs LAL\",2.0,666.4093185203822],[\"vs LAL\",2.0,0.0]],\"hovertemplate\":\"venue=Home\\u003cbr\\u003eevent=Normal\\u003cbr\\u003egamedate=%{x|%Y-%m-%d}\\u003cbr\\u003egame_no=%{y}\\u003cbr\\u003etravel_km=%{customdata[2]:.0f}\\u003cbr\\u003ematchup=%{customdata[0]}\\u003cbr\\u003erest_days=%{customdata[1]}\\u003cextra\\u003e\\u003c\\u002fextra\\u003e\",\"legendgroup\":\"Home, Normal\",\"marker\":{\"color\":\"#EF553B\",\"size\":[0.0,813.5430773265962,0.0,0.0,666.4093185203822,1972.1433101152058,2021.3160764849936,0.0,2227.9673418448356,0.0,0.0,0.0,0.0,1178.913771740545,0.0,2150.965415462684,0.0,0.0,0.0,666.4093185203822,0.0],\"sizemode\":\"area\",\"sizeref\":7.414703818374675,\"symbol\":\"circle\"},\"mode\":\"markers\",\"name\":\"Home, Normal\",\"orientation\":\"v\",\"showlegend\":true,\"x\":[\"2024-10-30T00:00:00\",\"2024-11-08T00:00:00\",\"2024-11-10T00:00:00\",\"2024-11-17T00:00:00\",\"2024-12-03T00:00:00\",\"2024-12-23T00:00:00\",\"2025-01-16T00:00:00\",\"2025-01-22T00:00:00\",\"2025-02-01T00:00:00\",\"2025-02-03T00:00:00\",\"2025-02-05T00:00:00\",\"2025-02-07T00:00:00\",\"2025-03-09T00:00:00\",\"2025-03-19T00:00:00\",\"2025-03-21T00:00:00\",\"2025-03-27T00:00:00\",\"2025-03-29T00:00:00\",\"2025-03-31T00:00:00\",\"2025-04-02T00:00:00\",\"2025-04-06T00:00:00\",\"2025-04-08T00:00:00\"],\"xaxis\":\"x\",\"y\":[4,9,10,14,21,26,38,41,45,46,47,48,62,67,68,71,72,73,74,76,77],\"yaxis\":\"y\",\"type\":\"scatter\"},{\"customdata\":[[\"vs ATL\",1.0,1111.8193769290913],[\"vs MEM\",1.0,1510.9531727847693],[\"vs DAL\",1.0,0.0],[\"vs MIN\",1.0,1117.2275770235233]],\"hovertemplate\":\"venue=Home\\u003cbr\\u003eevent=B2B\\u003cbr\\u003egamedate=%{x|%Y-%m-%d}\\u003cbr\\u003egame_no=%{y}\\u003cbr\\u003etravel_km=%{customdata[2]:.0f}\\u003cbr\\u003ematchup=%{customdata[0]}\\u003cbr\\u003erest_days=%{customdata[1]}\\u003cextra\\u003e\\u003c\\u002fextra\\u003e\",\"legendgroup\":\"Home, B2B\",\"marker\":{\"color\":\"#EF553B\",\"size\":[1111.8193769290913,1510.9531727847693,0.0,1117.2275770235233],\"sizemode\":\"area\",\"sizeref\":7.414703818374675,\"symbol\":\"diamond\"},\"mode\":\"markers\",\"name\":\"Home, B2B\",\"orientation\":\"v\",\"showlegend\":true,\"x\":[\"2024-10-27T00:00:00\",\"2024-12-29T00:00:00\",\"2025-01-23T00:00:00\",\"2025-02-24T00:00:00\"],\"xaxis\":\"x\",\"y\":[3,29,42,55],\"yaxis\":\"y\",\"type\":\"scatter\"},{\"customdata\":[[\"vs ORL\",2.0,1898.9610410719042],[\"vs NOP\",2.0,0.0],[\"vs PHX\",2.0,0.0],[\"vs MIN\",2.0,0.0],[\"vs LAC\",2.0,0.0],[\"vs BOS\",2.0,0.0],[\"vs BKN\",2.0,304.24962892485684],[\"vs NOP\",2.0,678.2333476422194],[\"vs MIA\",2.0,0.0],[\"vs POR\",2.0,678.2333476422194]],\"hovertemplate\":\"venue=Home\\u003cbr\\u003eevent=4-in-6\\u003cbr\\u003egamedate=%{x|%Y-%m-%d}\\u003cbr\\u003egame_no=%{y}\\u003cbr\\u003etravel_km=%{customdata[2]:.0f}\\u003cbr\\u003ematchup=%{customdata[0]}\\u003cbr\\u003erest_days=%{customdata[1]}\\u003cextra\\u003e\\u003c\\u002fextra\\u003e\",\"legendgroup\":\"Home, 4-in-6\",\"marker\":{\"color\":\"#EF553B\",\"size\":[1898.9610410719042,0.0,0.0,0.0,0.0,0.0,304.24962892485684,678.2333476422194,0.0,678.2333476422194],\"sizemode\":\"area\",\"sizeref\":7.414703818374675,\"symbol\":\"square\"},\"mode\":\"markers\",\"name\":\"Home, 4-in-6\",\"orientation\":\"v\",\"showlegend\":true,\"x\":[\"2024-11-04T00:00:00\",\"2024-11-13T00:00:00\",\"2024-11-15T00:00:00\",\"2024-12-31T00:00:00\",\"2025-01-02T00:00:00\",\"2025-01-05T00:00:00\",\"2025-01-19T00:00:00\",\"2025-02-10T00:00:00\",\"2025-02-12T00:00:00\",\"2025-03-07T00:00:00\"],\"xaxis\":\"x\",\"y\":[7,12,13,30,31,33,40,50,51,61],\"yaxis\":\"y\",\"type\":\"scatter\"},{\"customdata\":[[\"vs LAC\",1.0,0.0],[\"vs POR\",1.0,676.7756943654268],[\"vs NYK\",1.0,0.0],[\"vs HOU\",1.0,676.7756943654268],[\"vs DEN\",1.0,0.0]],\"hovertemplate\":\"venue=Home\\u003cbr\\u003eevent=B2B & 4-in-6\\u003cbr\\u003egamedate=%{x|%Y-%m-%d}\\u003cbr\\u003egame_no=%{y}\\u003cbr\\u003etravel_km=%{customdata[2]:.0f}\\u003cbr\\u003ematchup=%{customdata[0]}\\u003cbr\\u003erest_days=%{customdata[1]}\\u003cextra\\u003e\\u003c\\u002fextra\\u003e\",\"legendgroup\":\"Home, B2B & 4-in-6\",\"marker\":{\"color\":\"#EF553B\",\"size\":[0.0,676.7756943654268,0.0,676.7756943654268,0.0],\"sizemode\":\"area\",\"sizeref\":7.414703818374675,\"symbol\":\"x\"},\"mode\":\"markers\",\"name\":\"Home, B2B & 4-in-6\",\"orientation\":\"v\",\"showlegend\":true,\"x\":[\"2024-11-11T00:00:00\",\"2024-11-20T00:00:00\",\"2025-01-03T00:00:00\",\"2025-03-03T00:00:00\",\"2025-03-10T00:00:00\"],\"xaxis\":\"x\",\"y\":[11,16,32,59,63],\"yaxis\":\"y\",\"type\":\"scatter\"}],                        {\"template\":{\"data\":{\"histogram2dcontour\":[{\"type\":\"histogram2dcontour\",\"colorbar\":{\"outlinewidth\":0,\"ticks\":\"\"},\"colorscale\":[[0.0,\"#0d0887\"],[0.1111111111111111,\"#46039f\"],[0.2222222222222222,\"#7201a8\"],[0.3333333333333333,\"#9c179e\"],[0.4444444444444444,\"#bd3786\"],[0.5555555555555556,\"#d8576b\"],[0.6666666666666666,\"#ed7953\"],[0.7777777777777778,\"#fb9f3a\"],[0.8888888888888888,\"#fdca26\"],[1.0,\"#f0f921\"]]}],\"choropleth\":[{\"type\":\"choropleth\",\"colorbar\":{\"outlinewidth\":0,\"ticks\":\"\"}}],\"histogram2d\":[{\"type\":\"histogram2d\",\"colorbar\":{\"outlinewidth\":0,\"ticks\":\"\"},\"colorscale\":[[0.0,\"#0d0887\"],[0.1111111111111111,\"#46039f\"],[0.2222222222222222,\"#7201a8\"],[0.3333333333333333,\"#9c179e\"],[0.4444444444444444,\"#bd3786\"],[0.5555555555555556,\"#d8576b\"],[0.6666666666666666,\"#ed7953\"],[0.7777777777777778,\"#fb9f3a\"],[0.8888888888888888,\"#fdca26\"],[1.0,\"#f0f921\"]]}],\"heatmap\":[{\"type\":\"heatmap\",\"colorbar\":{\"outlinewidth\":0,\"ticks\":\"\"},\"colorscale\":[[0.0,\"#0d0887\"],[0.1111111111111111,\"#46039f\"],[0.2222222222222222,\"#7201a8\"],[0.3333333333333333,\"#9c179e\"],[0.4444444444444444,\"#bd3786\"],[0.5555555555555556,\"#d8576b\"],[0.6666666666666666,\"#ed7953\"],[0.7777777777777778,\"#fb9f3a\"],[0.8888888888888888,\"#fdca26\"],[1.0,\"#f0f921\"]]}],\"heatmapgl\":[{\"type\":\"heatmapgl\",\"colorbar\":{\"outlinewidth\":0,\"ticks\":\"\"},\"colorscale\":[[0.0,\"#0d0887\"],[0.1111111111111111,\"#46039f\"],[0.2222222222222222,\"#7201a8\"],[0.3333333333333333,\"#9c179e\"],[0.4444444444444444,\"#bd3786\"],[0.5555555555555556,\"#d8576b\"],[0.6666666666666666,\"#ed7953\"],[0.7777777777777778,\"#fb9f3a\"],[0.8888888888888888,\"#fdca26\"],[1.0,\"#f0f921\"]]}],\"contourcarpet\":[{\"type\":\"contourcarpet\",\"colorbar\":{\"outlinewidth\":0,\"ticks\":\"\"}}],\"contour\":[{\"type\":\"contour\",\"colorbar\":{\"outlinewidth\":0,\"ticks\":\"\"},\"colorscale\":[[0.0,\"#0d0887\"],[0.1111111111111111,\"#46039f\"],[0.2222222222222222,\"#7201a8\"],[0.3333333333333333,\"#9c179e\"],[0.4444444444444444,\"#bd3786\"],[0.5555555555555556,\"#d8576b\"],[0.6666666666666666,\"#ed7953\"],[0.7777777777777778,\"#fb9f3a\"],[0.8888888888888888,\"#fdca26\"],[1.0,\"#f0f921\"]]}],\"surface\":[{\"type\":\"surface\",\"colorbar\":{\"outlinewidth\":0,\"ticks\":\"\"},\"colorscale\":[[0.0,\"#0d0887\"],[0.1111111111111111,\"#46039f\"],[0.2222222222222222,\"#7201a8\"],[0.3333333333333333,\"#9c179e\"],[0.4444444444444444,\"#bd3786\"],[0.5555555555555556,\"#d8576b\"],[0.6666666666666666,\"#ed7953\"],[0.7777777777777778,\"#fb9f3a\"],[0.8888888888888888,\"#fdca26\"],[1.0,\"#f0f921\"]]}],\"mesh3d\":[{\"type\":\"mesh3d\",\"colorbar\":{\"outlinewidth\":0,\"ticks\":\"\"}}],\"scatter\":[{\"fillpattern\":{\"fillmode\":\"overlay\",\"size\":10,\"solidity\":0.2},\"type\":\"scatter\"}],\"parcoords\":[{\"type\":\"parcoords\",\"line\":{\"colorbar\":{\"outlinewidth\":0,\"ticks\":\"\"}}}],\"scatterpolargl\":[{\"type\":\"scatterpolargl\",\"marker\":{\"colorbar\":{\"outlinewidth\":0,\"ticks\":\"\"}}}],\"bar\":[{\"error_x\":{\"color\":\"#2a3f5f\"},\"error_y\":{\"color\":\"#2a3f5f\"},\"marker\":{\"line\":{\"color\":\"#E5ECF6\",\"width\":0.5},\"pattern\":{\"fillmode\":\"overlay\",\"size\":10,\"solidity\":0.2}},\"type\":\"bar\"}],\"scattergeo\":[{\"type\":\"scattergeo\",\"marker\":{\"colorbar\":{\"outlinewidth\":0,\"ticks\":\"\"}}}],\"scatterpolar\":[{\"type\":\"scatterpolar\",\"marker\":{\"colorbar\":{\"outlinewidth\":0,\"ticks\":\"\"}}}],\"histogram\":[{\"marker\":{\"pattern\":{\"fillmode\":\"overlay\",\"size\":10,\"solidity\":0.2}},\"type\":\"histogram\"}],\"scattergl\":[{\"type\":\"scattergl\",\"marker\":{\"colorbar\":{\"outlinewidth\":0,\"ticks\":\"\"}}}],\"scatter3d\":[{\"type\":\"scatter3d\",\"line\":{\"colorbar\":{\"outlinewidth\":0,\"ticks\":\"\"}},\"marker\":{\"colorbar\":{\"outlinewidth\":0,\"ticks\":\"\"}}}],\"scattermapbox\":[{\"type\":\"scattermapbox\",\"marker\":{\"colorbar\":{\"outlinewidth\":0,\"ticks\":\"\"}}}],\"scatterternary\":[{\"type\":\"scatterternary\",\"marker\":{\"colorbar\":{\"outlinewidth\":0,\"ticks\":\"\"}}}],\"scattercarpet\":[{\"type\":\"scattercarpet\",\"marker\":{\"colorbar\":{\"outlinewidth\":0,\"ticks\":\"\"}}}],\"carpet\":[{\"aaxis\":{\"endlinecolor\":\"#2a3f5f\",\"gridcolor\":\"white\",\"linecolor\":\"white\",\"minorgridcolor\":\"white\",\"startlinecolor\":\"#2a3f5f\"},\"baxis\":{\"endlinecolor\":\"#2a3f5f\",\"gridcolor\":\"white\",\"linecolor\":\"white\",\"minorgridcolor\":\"white\",\"startlinecolor\":\"#2a3f5f\"},\"type\":\"carpet\"}],\"table\":[{\"cells\":{\"fill\":{\"color\":\"#EBF0F8\"},\"line\":{\"color\":\"white\"}},\"header\":{\"fill\":{\"color\":\"#C8D4E3\"},\"line\":{\"color\":\"white\"}},\"type\":\"table\"}],\"barpolar\":[{\"marker\":{\"line\":{\"color\":\"#E5ECF6\",\"width\":0.5},\"pattern\":{\"fillmode\":\"overlay\",\"size\":10,\"solidity\":0.2}},\"type\":\"barpolar\"}],\"pie\":[{\"automargin\":true,\"type\":\"pie\"}]},\"layout\":{\"autotypenumbers\":\"strict\",\"colorway\":[\"#636efa\",\"#EF553B\",\"#00cc96\",\"#ab63fa\",\"#FFA15A\",\"#19d3f3\",\"#FF6692\",\"#B6E880\",\"#FF97FF\",\"#FECB52\"],\"font\":{\"color\":\"#2a3f5f\"},\"hovermode\":\"closest\",\"hoverlabel\":{\"align\":\"left\"},\"paper_bgcolor\":\"white\",\"plot_bgcolor\":\"#E5ECF6\",\"polar\":{\"bgcolor\":\"#E5ECF6\",\"angularaxis\":{\"gridcolor\":\"white\",\"linecolor\":\"white\",\"ticks\":\"\"},\"radialaxis\":{\"gridcolor\":\"white\",\"linecolor\":\"white\",\"ticks\":\"\"}},\"ternary\":{\"bgcolor\":\"#E5ECF6\",\"aaxis\":{\"gridcolor\":\"white\",\"linecolor\":\"white\",\"ticks\":\"\"},\"baxis\":{\"gridcolor\":\"white\",\"linecolor\":\"white\",\"ticks\":\"\"},\"caxis\":{\"gridcolor\":\"white\",\"linecolor\":\"white\",\"ticks\":\"\"}},\"coloraxis\":{\"colorbar\":{\"outlinewidth\":0,\"ticks\":\"\"}},\"colorscale\":{\"sequential\":[[0.0,\"#0d0887\"],[0.1111111111111111,\"#46039f\"],[0.2222222222222222,\"#7201a8\"],[0.3333333333333333,\"#9c179e\"],[0.4444444444444444,\"#bd3786\"],[0.5555555555555556,\"#d8576b\"],[0.6666666666666666,\"#ed7953\"],[0.7777777777777778,\"#fb9f3a\"],[0.8888888888888888,\"#fdca26\"],[1.0,\"#f0f921\"]],\"sequentialminus\":[[0.0,\"#0d0887\"],[0.1111111111111111,\"#46039f\"],[0.2222222222222222,\"#7201a8\"],[0.3333333333333333,\"#9c179e\"],[0.4444444444444444,\"#bd3786\"],[0.5555555555555556,\"#d8576b\"],[0.6666666666666666,\"#ed7953\"],[0.7777777777777778,\"#fb9f3a\"],[0.8888888888888888,\"#fdca26\"],[1.0,\"#f0f921\"]],\"diverging\":[[0,\"#8e0152\"],[0.1,\"#c51b7d\"],[0.2,\"#de77ae\"],[0.3,\"#f1b6da\"],[0.4,\"#fde0ef\"],[0.5,\"#f7f7f7\"],[0.6,\"#e6f5d0\"],[0.7,\"#b8e186\"],[0.8,\"#7fbc41\"],[0.9,\"#4d9221\"],[1,\"#276419\"]]},\"xaxis\":{\"gridcolor\":\"white\",\"linecolor\":\"white\",\"ticks\":\"\",\"title\":{\"standoff\":15},\"zerolinecolor\":\"white\",\"automargin\":true,\"zerolinewidth\":2},\"yaxis\":{\"gridcolor\":\"white\",\"linecolor\":\"white\",\"ticks\":\"\",\"title\":{\"standoff\":15},\"zerolinecolor\":\"white\",\"automargin\":true,\"zerolinewidth\":2},\"scene\":{\"xaxis\":{\"backgroundcolor\":\"#E5ECF6\",\"gridcolor\":\"white\",\"linecolor\":\"white\",\"showbackground\":true,\"ticks\":\"\",\"zerolinecolor\":\"white\",\"gridwidth\":2},\"yaxis\":{\"backgroundcolor\":\"#E5ECF6\",\"gridcolor\":\"white\",\"linecolor\":\"white\",\"showbackground\":true,\"ticks\":\"\",\"zerolinecolor\":\"white\",\"gridwidth\":2},\"zaxis\":{\"backgroundcolor\":\"#E5ECF6\",\"gridcolor\":\"white\",\"linecolor\":\"white\",\"showbackground\":true,\"ticks\":\"\",\"zerolinecolor\":\"white\",\"gridwidth\":2}},\"shapedefaults\":{\"line\":{\"color\":\"#2a3f5f\"}},\"annotationdefaults\":{\"arrowcolor\":\"#2a3f5f\",\"arrowhead\":0,\"arrowwidth\":1},\"geo\":{\"bgcolor\":\"white\",\"landcolor\":\"#E5ECF6\",\"subunitcolor\":\"white\",\"showland\":true,\"showlakes\":true,\"lakecolor\":\"white\"},\"title\":{\"x\":0.05},\"mapbox\":{\"style\":\"light\"}}},\"xaxis\":{\"anchor\":\"y\",\"domain\":[0.0,1.0],\"title\":{\"text\":\"Date\"}},\"yaxis\":{\"anchor\":\"x\",\"domain\":[0.0,1.0],\"title\":{\"text\":\"Game\"}},\"legend\":{\"title\":{\"text\":\"venue, event\"},\"tracegroupgap\":0,\"itemsizing\":\"constant\"},\"margin\":{\"t\":60},\"title\":{\"text\":\"OKC \\u2014 2024-25 Draft Schedule\"}},                        {\"responsive\": true}                    ).then(function(){\n",
       "                            \n",
       "var gd = document.getElementById('d69acdf5-1bb8-4d6c-b3f1-a31c04cbe045');\n",
       "var x = new MutationObserver(function (mutations, observer) {{\n",
       "        var display = window.getComputedStyle(gd).display;\n",
       "        if (!display || display === 'none') {{\n",
       "            console.log([gd, 'removed!']);\n",
       "            Plotly.purge(gd);\n",
       "            observer.disconnect();\n",
       "        }}\n",
       "}});\n",
       "\n",
       "// Listen for the removal of the full notebook cells\n",
       "var notebookContainer = gd.closest('#notebook-container');\n",
       "if (notebookContainer) {{\n",
       "    x.observe(notebookContainer, {childList: true});\n",
       "}}\n",
       "\n",
       "// Listen for the clearing of the current output cell\n",
       "var outputEl = gd.closest('.output');\n",
       "if (outputEl) {{\n",
       "    x.observe(outputEl, {childList: true});\n",
       "}}\n",
       "\n",
       "                        })                };                });            </script>        </div>"
      ]
     },
     "metadata": {},
     "output_type": "display_data"
    },
    {
     "data": {
      "application/vnd.plotly.v1+json": {
       "config": {
        "plotlyServerURL": "https://plot.ly"
       },
       "data": [
        {
         "customdata": [
          [
           "vs OKC",
           null,
           0
          ],
          [
           "vs LAC",
           2,
           0
          ],
          [
           "vs TOR",
           2,
           0
          ],
          [
           "vs MIA",
           2,
           0
          ],
          [
           "vs DAL",
           2,
           0
          ],
          [
           "vs DAL",
           3,
           1414.2876189233991
          ],
          [
           "vs NYK",
           2,
           1336.9729075973453
          ],
          [
           "vs GSW",
           2,
           1336.9729075973453
          ],
          [
           "vs SAS",
           2,
           0
          ],
          [
           "vs BOS",
           3,
           1294.7828530691015
          ],
          [
           "vs BKN",
           2,
           0
          ],
          [
           "vs PHI",
           2,
           2494.5370677757924
          ],
          [
           "vs SAC",
           2,
           0
          ],
          [
           "vs POR",
           2,
           0
          ],
          [
           "vs CHA",
           8,
           0
          ],
          [
           "vs LAL",
           2,
           0
          ],
          [
           "vs SAC",
           3,
           2842.060293024499
          ],
          [
           "vs PHX",
           2,
           0
          ],
          [
           "vs MIN",
           4,
           0
          ],
          [
           "vs MEM",
           2,
           1425.6941710855424
          ]
         ],
         "hovertemplate": "venue=Home<br>event=Normal<br>gamedate=%{x|%Y-%m-%d}<br>game_no=%{y}<br>travel_km=%{customdata[2]:.0f}<br>matchup=%{customdata[0]}<br>rest_days=%{customdata[1]}<extra></extra>",
         "legendgroup": "Home, Normal",
         "marker": {
          "color": "#636efa",
          "size": [
           0,
           0,
           0,
           0,
           0,
           1414.2876189233991,
           1336.9729075973453,
           1336.9729075973453,
           0,
           1294.7828530691015,
           0,
           2494.5370677757924,
           0,
           0,
           0,
           0,
           2842.060293024499,
           0,
           0,
           1425.6941710855424
          ],
          "sizemode": "area",
          "sizeref": 10.767002681731109,
          "symbol": "circle"
         },
         "mode": "markers",
         "name": "Home, Normal",
         "orientation": "v",
         "showlegend": true,
         "type": "scatter",
         "x": [
          "2024-10-24T00:00:00",
          "2024-10-26T00:00:00",
          "2024-11-04T00:00:00",
          "2024-11-08T00:00:00",
          "2024-11-10T00:00:00",
          "2024-11-22T00:00:00",
          "2024-11-25T00:00:00",
          "2024-12-03T00:00:00",
          "2025-01-03T00:00:00",
          "2025-01-07T00:00:00",
          "2025-01-10T00:00:00",
          "2025-01-21T00:00:00",
          "2025-01-23T00:00:00",
          "2025-02-12T00:00:00",
          "2025-02-20T00:00:00",
          "2025-02-22T00:00:00",
          "2025-03-05T00:00:00",
          "2025-03-07T00:00:00",
          "2025-04-01T00:00:00",
          "2025-04-11T00:00:00"
         ],
         "xaxis": "x",
         "y": [
          1,
          2,
          7,
          9,
          10,
          14,
          16,
          19,
          31,
          33,
          35,
          41,
          42,
          53,
          54,
          55,
          60,
          61,
          74,
          79
         ],
         "yaxis": "y"
        },
        {
         "customdata": [
          [
           "vs UTA",
           1,
           1124.1015850203564
          ],
          [
           "vs DET",
           1,
           0
          ],
          [
           "vs LAC",
           1,
           0
          ],
          [
           "vs HOU",
           1,
           1066.152339451909
          ],
          [
           "vs ORL",
           1,
           0
          ],
          [
           "vs WAS",
           1,
           0
          ],
          [
           "vs CHI",
           1,
           1416.7012298631298
          ]
         ],
         "hovertemplate": "venue=Home<br>event=B2B & 4-in-6<br>gamedate=%{x|%Y-%m-%d}<br>game_no=%{y}<br>travel_km=%{customdata[2]:.0f}<br>matchup=%{customdata[0]}<br>rest_days=%{customdata[1]}<extra></extra>",
         "legendgroup": "Home, B2B & 4-in-6",
         "marker": {
          "color": "#636efa",
          "size": [
           1124.1015850203564,
           0,
           0,
           1066.152339451909,
           0,
           0,
           1416.7012298631298
          ],
          "sizemode": "area",
          "sizeref": 10.767002681731109,
          "symbol": "diamond"
         },
         "mode": "markers",
         "name": "Home, B2B & 4-in-6",
         "orientation": "v",
         "showlegend": true,
         "type": "scatter",
         "x": [
          "2024-11-02T00:00:00",
          "2024-12-28T00:00:00",
          "2025-01-08T00:00:00",
          "2025-01-15T00:00:00",
          "2025-02-06T00:00:00",
          "2025-03-15T00:00:00",
          "2025-03-24T00:00:00"
         ],
         "xaxis": "x",
         "y": [
          6,
          28,
          34,
          38,
          50,
          66,
          71
         ],
         "yaxis": "y"
        },
        {
         "customdata": [
          [
           "vs OKC",
           2,
           0
          ],
          [
           "vs CLE",
           2,
           942.0959716238185
          ],
          [
           "vs ATL",
           2,
           595.6712463764067
          ],
          [
           "vs NOP",
           2,
           2183.693659522227
          ],
          [
           "vs NOP",
           2,
           0
          ],
          [
           "vs POR",
           2,
           942.0959716238185
          ],
          [
           "vs MIN",
           2,
           813.5430773265962
          ],
          [
           "vs LAL",
           2,
           0
          ],
          [
           "vs MIL",
           2,
           0
          ],
          [
           "vs UTA",
           2,
           0
          ],
          [
           "vs IND",
           2,
           1520.5101385790822
          ]
         ],
         "hovertemplate": "venue=Home<br>event=4-in-6<br>gamedate=%{x|%Y-%m-%d}<br>game_no=%{y}<br>travel_km=%{customdata[2]:.0f}<br>matchup=%{customdata[0]}<br>rest_days=%{customdata[1]}<extra></extra>",
         "legendgroup": "Home, 4-in-6",
         "marker": {
          "color": "#636efa",
          "size": [
           0,
           942.0959716238185,
           595.6712463764067,
           2183.693659522227,
           0,
           942.0959716238185,
           813.5430773265962,
           0,
           0,
           0,
           1520.5101385790822
          ],
          "sizemode": "area",
          "sizeref": 10.767002681731109,
          "symbol": "square"
         },
         "mode": "markers",
         "name": "Home, 4-in-6",
         "orientation": "v",
         "showlegend": true,
         "type": "scatter",
         "x": [
          "2024-11-06T00:00:00",
          "2024-12-27T00:00:00",
          "2025-01-01T00:00:00",
          "2025-02-03T00:00:00",
          "2025-02-05T00:00:00",
          "2025-02-10T00:00:00",
          "2025-03-12T00:00:00",
          "2025-03-14T00:00:00",
          "2025-03-26T00:00:00",
          "2025-03-28T00:00:00",
          "2025-04-06T00:00:00"
         ],
         "xaxis": "x",
         "y": [
          8,
          27,
          30,
          48,
          49,
          52,
          64,
          65,
          72,
          73,
          77
         ],
         "yaxis": "y"
        },
        {
         "customdata": [
          [
           "vs PHX",
           1,
           1740.0944098671907
          ],
          [
           "vs SAS",
           1,
           0
          ]
         ],
         "hovertemplate": "venue=Home<br>event=B2B<br>gamedate=%{x|%Y-%m-%d}<br>game_no=%{y}<br>travel_km=%{customdata[2]:.0f}<br>matchup=%{customdata[0]}<br>rest_days=%{customdata[1]}<extra></extra>",
         "legendgroup": "Home, B2B",
         "marker": {
          "color": "#636efa",
          "size": [
           1740.0944098671907,
           0
          ],
          "sizemode": "area",
          "sizeref": 10.767002681731109,
          "symbol": "x"
         },
         "mode": "markers",
         "name": "Home, B2B",
         "orientation": "v",
         "showlegend": true,
         "type": "scatter",
         "x": [
          "2024-12-23T00:00:00",
          "2025-04-02T00:00:00"
         ],
         "xaxis": "x",
         "y": [
          25,
          75
         ],
         "yaxis": "y"
        },
        {
         "customdata": [
          [
           "@ TOR",
           2,
           2162.3783829769227
          ],
          [
           "@ MIN",
           3,
           1640.259465913274
          ],
          [
           "@ NOP",
           5,
           1740.0944098671907
          ],
          [
           "@ MEM",
           2,
           577.0213468340678
          ],
          [
           "@ MEM",
           2,
           0
          ],
          [
           "@ LAC",
           4,
           935.0457581075054
          ],
          [
           "@ CLE",
           2,
           1971.6947491653882
          ],
          [
           "@ WAS",
           2,
           490.4042520058147
          ],
          [
           "@ POR",
           11,
           3488.508868880879
          ],
          [
           "@ NOP",
           3,
           3314.4069362291157
          ],
          [
           "@ PHX",
           2,
           942.0959716238185
          ],
          [
           "@ DAL",
           2,
           0
          ],
          [
           "@ MIN",
           2,
           1124.1015850203564
          ],
          [
           "@ CHI",
           2,
           568.4347595670457
          ],
          [
           "@ NYK",
           2,
           1148.206381537663
          ],
          [
           "@ PHI",
           2,
           137.47864385457567
          ],
          [
           "@ IND",
           2,
           1608.55817511001
          ],
          [
           "@ MIL",
           3,
           393.12697278323645
          ],
          [
           "@ BOS",
           2,
           984.6364130456426
          ],
          [
           "@ OKC",
           2,
           813.5430773265962
          ],
          [
           "@ POR",
           2,
           1331.0619544656363
          ],
          [
           "@ HOU",
           2,
           2952.2040860825045
          ],
          [
           "@ GSW",
           2,
           1520.5101385790822
          ],
          [
           "@ SAC",
           3,
           1425.6941710855424
          ],
          [
           "@ HOU",
           2,
           1416.7012298631298
          ]
         ],
         "hovertemplate": "venue=Away<br>event=Normal<br>gamedate=%{x|%Y-%m-%d}<br>game_no=%{y}<br>travel_km=%{customdata[2]:.0f}<br>matchup=%{customdata[0]}<br>rest_days=%{customdata[1]}<extra></extra>",
         "legendgroup": "Away, Normal",
         "marker": {
          "color": "#EF553B",
          "size": [
           2162.3783829769227,
           1640.259465913274,
           1740.0944098671907,
           577.0213468340678,
           0,
           935.0457581075054,
           1971.6947491653882,
           490.4042520058147,
           3488.508868880879,
           3314.4069362291157,
           942.0959716238185,
           0,
           1124.1015850203564,
           568.4347595670457,
           1148.206381537663,
           137.47864385457567,
           1608.55817511001,
           393.12697278323645,
           984.6364130456426,
           813.5430773265962,
           1331.0619544656363,
           2952.2040860825045,
           1520.5101385790822,
           1425.6941710855424,
           1416.7012298631298
          ],
          "sizemode": "area",
          "sizeref": 10.767002681731109,
          "symbol": "circle"
         },
         "mode": "markers",
         "name": "Away, Normal",
         "orientation": "v",
         "showlegend": true,
         "type": "scatter",
         "x": [
          "2024-10-28T00:00:00",
          "2024-11-01T00:00:00",
          "2024-11-15T00:00:00",
          "2024-11-17T00:00:00",
          "2024-11-19T00:00:00",
          "2024-12-01T00:00:00",
          "2024-12-05T00:00:00",
          "2024-12-07T00:00:00",
          "2024-12-19T00:00:00",
          "2024-12-22T00:00:00",
          "2024-12-25T00:00:00",
          "2025-01-14T00:00:00",
          "2025-01-25T00:00:00",
          "2025-01-27T00:00:00",
          "2025-01-29T00:00:00",
          "2025-01-31T00:00:00",
          "2025-02-24T00:00:00",
          "2025-02-27T00:00:00",
          "2025-03-02T00:00:00",
          "2025-03-09T00:00:00",
          "2025-03-21T00:00:00",
          "2025-03-23T00:00:00",
          "2025-04-04T00:00:00",
          "2025-04-09T00:00:00",
          "2025-04-13T00:00:00"
         ],
         "xaxis": "x",
         "y": [
          3,
          5,
          11,
          12,
          13,
          18,
          20,
          21,
          23,
          24,
          26,
          37,
          43,
          44,
          45,
          46,
          56,
          57,
          59,
          62,
          69,
          70,
          76,
          78,
          80
         ],
         "yaxis": "y"
        },
        {
         "customdata": [
          [
           "@ BKN",
           1,
           553.6682125313125
          ],
          [
           "@ ATL",
           1,
           873.1054698798946
          ],
          [
           "@ SAS",
           1,
           1294.7828530691015
          ],
          [
           "@ CHA",
           1,
           720.7069808081599
          ],
          [
           "@ OKC",
           1,
           0
          ]
         ],
         "hovertemplate": "venue=Away<br>event=B2B & 4-in-6<br>gamedate=%{x|%Y-%m-%d}<br>game_no=%{y}<br>travel_km=%{customdata[2]:.0f}<br>matchup=%{customdata[0]}<br>rest_days=%{customdata[1]}<extra></extra>",
         "legendgroup": "Away, B2B & 4-in-6",
         "marker": {
          "color": "#EF553B",
          "size": [
           553.6682125313125,
           873.1054698798946,
           1294.7828530691015,
           720.7069808081599,
           0
          ],
          "sizemode": "area",
          "sizeref": 10.767002681731109,
          "symbol": "diamond"
         },
         "mode": "markers",
         "name": "Away, B2B & 4-in-6",
         "orientation": "v",
         "showlegend": true,
         "type": "scatter",
         "x": [
          "2024-10-29T00:00:00",
          "2024-12-08T00:00:00",
          "2025-01-04T00:00:00",
          "2025-02-01T00:00:00",
          "2025-03-10T00:00:00"
         ],
         "xaxis": "x",
         "y": [
          4,
          22,
          32,
          47,
          63
         ],
         "yaxis": "y"
        },
        {
         "customdata": [
          [
           "@ UTA",
           2,
           595.6712463764067
          ],
          [
           "@ UTA",
           2,
           595.6712463764067
          ],
          [
           "@ DAL",
           2,
           1066.152339451909
          ],
          [
           "@ MIA",
           2,
           2777.2274372938014
          ],
          [
           "@ ORL",
           2,
           328.69194260932414
          ],
          [
           "@ PHX",
           2,
           942.0959716238185
          ],
          [
           "@ GSW",
           2,
           1520.5101385790822
          ],
          [
           "@ LAL",
           2,
           555.9704335583473
          ]
         ],
         "hovertemplate": "venue=Away<br>event=4-in-6<br>gamedate=%{x|%Y-%m-%d}<br>game_no=%{y}<br>travel_km=%{customdata[2]:.0f}<br>matchup=%{customdata[0]}<br>rest_days=%{customdata[1]}<extra></extra>",
         "legendgroup": "Away, 4-in-6",
         "marker": {
          "color": "#EF553B",
          "size": [
           595.6712463764067,
           595.6712463764067,
           1066.152339451909,
           2777.2274372938014,
           328.69194260932414,
           942.0959716238185,
           1520.5101385790822,
           555.9704335583473
          ],
          "sizemode": "area",
          "sizeref": 10.767002681731109,
          "symbol": "square"
         },
         "mode": "markers",
         "name": "Away, 4-in-6",
         "orientation": "v",
         "showlegend": true,
         "type": "scatter",
         "x": [
          "2024-11-27T00:00:00",
          "2024-12-30T00:00:00",
          "2025-01-12T00:00:00",
          "2025-01-17T00:00:00",
          "2025-01-19T00:00:00",
          "2025-02-08T00:00:00",
          "2025-03-17T00:00:00",
          "2025-03-19T00:00:00"
         ],
         "xaxis": "x",
         "y": [
          17,
          29,
          36,
          39,
          40,
          51,
          67,
          68
         ],
         "yaxis": "y"
        },
        {
         "customdata": [
          [
           "@ LAL",
           1,
           1336.9729075973453
          ],
          [
           "@ DET",
           1,
           404.8994208179393
          ]
         ],
         "hovertemplate": "venue=Away<br>event=B2B<br>gamedate=%{x|%Y-%m-%d}<br>game_no=%{y}<br>travel_km=%{customdata[2]:.0f}<br>matchup=%{customdata[0]}<br>rest_days=%{customdata[1]}<extra></extra>",
         "legendgroup": "Away, B2B",
         "marker": {
          "color": "#EF553B",
          "size": [
           1336.9729075973453,
           404.8994208179393
          ],
          "sizemode": "area",
          "sizeref": 10.767002681731109,
          "symbol": "x"
         },
         "mode": "markers",
         "name": "Away, B2B",
         "orientation": "v",
         "showlegend": true,
         "type": "scatter",
         "x": [
          "2024-11-23T00:00:00",
          "2025-02-28T00:00:00"
         ],
         "xaxis": "x",
         "y": [
          15,
          58
         ],
         "yaxis": "y"
        }
       ],
       "layout": {
        "autosize": true,
        "legend": {
         "itemsizing": "constant",
         "title": {
          "text": "venue, event"
         },
         "tracegroupgap": 0
        },
        "margin": {
         "t": 60
        },
        "template": {
         "data": {
          "bar": [
           {
            "error_x": {
             "color": "#2a3f5f"
            },
            "error_y": {
             "color": "#2a3f5f"
            },
            "marker": {
             "line": {
              "color": "#E5ECF6",
              "width": 0.5
             },
             "pattern": {
              "fillmode": "overlay",
              "size": 10,
              "solidity": 0.2
             }
            },
            "type": "bar"
           }
          ],
          "barpolar": [
           {
            "marker": {
             "line": {
              "color": "#E5ECF6",
              "width": 0.5
             },
             "pattern": {
              "fillmode": "overlay",
              "size": 10,
              "solidity": 0.2
             }
            },
            "type": "barpolar"
           }
          ],
          "carpet": [
           {
            "aaxis": {
             "endlinecolor": "#2a3f5f",
             "gridcolor": "white",
             "linecolor": "white",
             "minorgridcolor": "white",
             "startlinecolor": "#2a3f5f"
            },
            "baxis": {
             "endlinecolor": "#2a3f5f",
             "gridcolor": "white",
             "linecolor": "white",
             "minorgridcolor": "white",
             "startlinecolor": "#2a3f5f"
            },
            "type": "carpet"
           }
          ],
          "choropleth": [
           {
            "colorbar": {
             "outlinewidth": 0,
             "ticks": ""
            },
            "type": "choropleth"
           }
          ],
          "contour": [
           {
            "colorbar": {
             "outlinewidth": 0,
             "ticks": ""
            },
            "colorscale": [
             [
              0,
              "#0d0887"
             ],
             [
              0.1111111111111111,
              "#46039f"
             ],
             [
              0.2222222222222222,
              "#7201a8"
             ],
             [
              0.3333333333333333,
              "#9c179e"
             ],
             [
              0.4444444444444444,
              "#bd3786"
             ],
             [
              0.5555555555555556,
              "#d8576b"
             ],
             [
              0.6666666666666666,
              "#ed7953"
             ],
             [
              0.7777777777777778,
              "#fb9f3a"
             ],
             [
              0.8888888888888888,
              "#fdca26"
             ],
             [
              1,
              "#f0f921"
             ]
            ],
            "type": "contour"
           }
          ],
          "contourcarpet": [
           {
            "colorbar": {
             "outlinewidth": 0,
             "ticks": ""
            },
            "type": "contourcarpet"
           }
          ],
          "heatmap": [
           {
            "colorbar": {
             "outlinewidth": 0,
             "ticks": ""
            },
            "colorscale": [
             [
              0,
              "#0d0887"
             ],
             [
              0.1111111111111111,
              "#46039f"
             ],
             [
              0.2222222222222222,
              "#7201a8"
             ],
             [
              0.3333333333333333,
              "#9c179e"
             ],
             [
              0.4444444444444444,
              "#bd3786"
             ],
             [
              0.5555555555555556,
              "#d8576b"
             ],
             [
              0.6666666666666666,
              "#ed7953"
             ],
             [
              0.7777777777777778,
              "#fb9f3a"
             ],
             [
              0.8888888888888888,
              "#fdca26"
             ],
             [
              1,
              "#f0f921"
             ]
            ],
            "type": "heatmap"
           }
          ],
          "heatmapgl": [
           {
            "colorbar": {
             "outlinewidth": 0,
             "ticks": ""
            },
            "colorscale": [
             [
              0,
              "#0d0887"
             ],
             [
              0.1111111111111111,
              "#46039f"
             ],
             [
              0.2222222222222222,
              "#7201a8"
             ],
             [
              0.3333333333333333,
              "#9c179e"
             ],
             [
              0.4444444444444444,
              "#bd3786"
             ],
             [
              0.5555555555555556,
              "#d8576b"
             ],
             [
              0.6666666666666666,
              "#ed7953"
             ],
             [
              0.7777777777777778,
              "#fb9f3a"
             ],
             [
              0.8888888888888888,
              "#fdca26"
             ],
             [
              1,
              "#f0f921"
             ]
            ],
            "type": "heatmapgl"
           }
          ],
          "histogram": [
           {
            "marker": {
             "pattern": {
              "fillmode": "overlay",
              "size": 10,
              "solidity": 0.2
             }
            },
            "type": "histogram"
           }
          ],
          "histogram2d": [
           {
            "colorbar": {
             "outlinewidth": 0,
             "ticks": ""
            },
            "colorscale": [
             [
              0,
              "#0d0887"
             ],
             [
              0.1111111111111111,
              "#46039f"
             ],
             [
              0.2222222222222222,
              "#7201a8"
             ],
             [
              0.3333333333333333,
              "#9c179e"
             ],
             [
              0.4444444444444444,
              "#bd3786"
             ],
             [
              0.5555555555555556,
              "#d8576b"
             ],
             [
              0.6666666666666666,
              "#ed7953"
             ],
             [
              0.7777777777777778,
              "#fb9f3a"
             ],
             [
              0.8888888888888888,
              "#fdca26"
             ],
             [
              1,
              "#f0f921"
             ]
            ],
            "type": "histogram2d"
           }
          ],
          "histogram2dcontour": [
           {
            "colorbar": {
             "outlinewidth": 0,
             "ticks": ""
            },
            "colorscale": [
             [
              0,
              "#0d0887"
             ],
             [
              0.1111111111111111,
              "#46039f"
             ],
             [
              0.2222222222222222,
              "#7201a8"
             ],
             [
              0.3333333333333333,
              "#9c179e"
             ],
             [
              0.4444444444444444,
              "#bd3786"
             ],
             [
              0.5555555555555556,
              "#d8576b"
             ],
             [
              0.6666666666666666,
              "#ed7953"
             ],
             [
              0.7777777777777778,
              "#fb9f3a"
             ],
             [
              0.8888888888888888,
              "#fdca26"
             ],
             [
              1,
              "#f0f921"
             ]
            ],
            "type": "histogram2dcontour"
           }
          ],
          "mesh3d": [
           {
            "colorbar": {
             "outlinewidth": 0,
             "ticks": ""
            },
            "type": "mesh3d"
           }
          ],
          "parcoords": [
           {
            "line": {
             "colorbar": {
              "outlinewidth": 0,
              "ticks": ""
             }
            },
            "type": "parcoords"
           }
          ],
          "pie": [
           {
            "automargin": true,
            "type": "pie"
           }
          ],
          "scatter": [
           {
            "fillpattern": {
             "fillmode": "overlay",
             "size": 10,
             "solidity": 0.2
            },
            "type": "scatter"
           }
          ],
          "scatter3d": [
           {
            "line": {
             "colorbar": {
              "outlinewidth": 0,
              "ticks": ""
             }
            },
            "marker": {
             "colorbar": {
              "outlinewidth": 0,
              "ticks": ""
             }
            },
            "type": "scatter3d"
           }
          ],
          "scattercarpet": [
           {
            "marker": {
             "colorbar": {
              "outlinewidth": 0,
              "ticks": ""
             }
            },
            "type": "scattercarpet"
           }
          ],
          "scattergeo": [
           {
            "marker": {
             "colorbar": {
              "outlinewidth": 0,
              "ticks": ""
             }
            },
            "type": "scattergeo"
           }
          ],
          "scattergl": [
           {
            "marker": {
             "colorbar": {
              "outlinewidth": 0,
              "ticks": ""
             }
            },
            "type": "scattergl"
           }
          ],
          "scattermapbox": [
           {
            "marker": {
             "colorbar": {
              "outlinewidth": 0,
              "ticks": ""
             }
            },
            "type": "scattermapbox"
           }
          ],
          "scatterpolar": [
           {
            "marker": {
             "colorbar": {
              "outlinewidth": 0,
              "ticks": ""
             }
            },
            "type": "scatterpolar"
           }
          ],
          "scatterpolargl": [
           {
            "marker": {
             "colorbar": {
              "outlinewidth": 0,
              "ticks": ""
             }
            },
            "type": "scatterpolargl"
           }
          ],
          "scatterternary": [
           {
            "marker": {
             "colorbar": {
              "outlinewidth": 0,
              "ticks": ""
             }
            },
            "type": "scatterternary"
           }
          ],
          "surface": [
           {
            "colorbar": {
             "outlinewidth": 0,
             "ticks": ""
            },
            "colorscale": [
             [
              0,
              "#0d0887"
             ],
             [
              0.1111111111111111,
              "#46039f"
             ],
             [
              0.2222222222222222,
              "#7201a8"
             ],
             [
              0.3333333333333333,
              "#9c179e"
             ],
             [
              0.4444444444444444,
              "#bd3786"
             ],
             [
              0.5555555555555556,
              "#d8576b"
             ],
             [
              0.6666666666666666,
              "#ed7953"
             ],
             [
              0.7777777777777778,
              "#fb9f3a"
             ],
             [
              0.8888888888888888,
              "#fdca26"
             ],
             [
              1,
              "#f0f921"
             ]
            ],
            "type": "surface"
           }
          ],
          "table": [
           {
            "cells": {
             "fill": {
              "color": "#EBF0F8"
             },
             "line": {
              "color": "white"
             }
            },
            "header": {
             "fill": {
              "color": "#C8D4E3"
             },
             "line": {
              "color": "white"
             }
            },
            "type": "table"
           }
          ]
         },
         "layout": {
          "annotationdefaults": {
           "arrowcolor": "#2a3f5f",
           "arrowhead": 0,
           "arrowwidth": 1
          },
          "autotypenumbers": "strict",
          "coloraxis": {
           "colorbar": {
            "outlinewidth": 0,
            "ticks": ""
           }
          },
          "colorscale": {
           "diverging": [
            [
             0,
             "#8e0152"
            ],
            [
             0.1,
             "#c51b7d"
            ],
            [
             0.2,
             "#de77ae"
            ],
            [
             0.3,
             "#f1b6da"
            ],
            [
             0.4,
             "#fde0ef"
            ],
            [
             0.5,
             "#f7f7f7"
            ],
            [
             0.6,
             "#e6f5d0"
            ],
            [
             0.7,
             "#b8e186"
            ],
            [
             0.8,
             "#7fbc41"
            ],
            [
             0.9,
             "#4d9221"
            ],
            [
             1,
             "#276419"
            ]
           ],
           "sequential": [
            [
             0,
             "#0d0887"
            ],
            [
             0.1111111111111111,
             "#46039f"
            ],
            [
             0.2222222222222222,
             "#7201a8"
            ],
            [
             0.3333333333333333,
             "#9c179e"
            ],
            [
             0.4444444444444444,
             "#bd3786"
            ],
            [
             0.5555555555555556,
             "#d8576b"
            ],
            [
             0.6666666666666666,
             "#ed7953"
            ],
            [
             0.7777777777777778,
             "#fb9f3a"
            ],
            [
             0.8888888888888888,
             "#fdca26"
            ],
            [
             1,
             "#f0f921"
            ]
           ],
           "sequentialminus": [
            [
             0,
             "#0d0887"
            ],
            [
             0.1111111111111111,
             "#46039f"
            ],
            [
             0.2222222222222222,
             "#7201a8"
            ],
            [
             0.3333333333333333,
             "#9c179e"
            ],
            [
             0.4444444444444444,
             "#bd3786"
            ],
            [
             0.5555555555555556,
             "#d8576b"
            ],
            [
             0.6666666666666666,
             "#ed7953"
            ],
            [
             0.7777777777777778,
             "#fb9f3a"
            ],
            [
             0.8888888888888888,
             "#fdca26"
            ],
            [
             1,
             "#f0f921"
            ]
           ]
          },
          "colorway": [
           "#636efa",
           "#EF553B",
           "#00cc96",
           "#ab63fa",
           "#FFA15A",
           "#19d3f3",
           "#FF6692",
           "#B6E880",
           "#FF97FF",
           "#FECB52"
          ],
          "font": {
           "color": "#2a3f5f"
          },
          "geo": {
           "bgcolor": "white",
           "lakecolor": "white",
           "landcolor": "#E5ECF6",
           "showlakes": true,
           "showland": true,
           "subunitcolor": "white"
          },
          "hoverlabel": {
           "align": "left"
          },
          "hovermode": "closest",
          "mapbox": {
           "style": "light"
          },
          "paper_bgcolor": "white",
          "plot_bgcolor": "#E5ECF6",
          "polar": {
           "angularaxis": {
            "gridcolor": "white",
            "linecolor": "white",
            "ticks": ""
           },
           "bgcolor": "#E5ECF6",
           "radialaxis": {
            "gridcolor": "white",
            "linecolor": "white",
            "ticks": ""
           }
          },
          "scene": {
           "xaxis": {
            "backgroundcolor": "#E5ECF6",
            "gridcolor": "white",
            "gridwidth": 2,
            "linecolor": "white",
            "showbackground": true,
            "ticks": "",
            "zerolinecolor": "white"
           },
           "yaxis": {
            "backgroundcolor": "#E5ECF6",
            "gridcolor": "white",
            "gridwidth": 2,
            "linecolor": "white",
            "showbackground": true,
            "ticks": "",
            "zerolinecolor": "white"
           },
           "zaxis": {
            "backgroundcolor": "#E5ECF6",
            "gridcolor": "white",
            "gridwidth": 2,
            "linecolor": "white",
            "showbackground": true,
            "ticks": "",
            "zerolinecolor": "white"
           }
          },
          "shapedefaults": {
           "line": {
            "color": "#2a3f5f"
           }
          },
          "ternary": {
           "aaxis": {
            "gridcolor": "white",
            "linecolor": "white",
            "ticks": ""
           },
           "baxis": {
            "gridcolor": "white",
            "linecolor": "white",
            "ticks": ""
           },
           "bgcolor": "#E5ECF6",
           "caxis": {
            "gridcolor": "white",
            "linecolor": "white",
            "ticks": ""
           }
          },
          "title": {
           "x": 0.05
          },
          "xaxis": {
           "automargin": true,
           "gridcolor": "white",
           "linecolor": "white",
           "ticks": "",
           "title": {
            "standoff": 15
           },
           "zerolinecolor": "white",
           "zerolinewidth": 2
          },
          "yaxis": {
           "automargin": true,
           "gridcolor": "white",
           "linecolor": "white",
           "ticks": "",
           "title": {
            "standoff": 15
           },
           "zerolinecolor": "white",
           "zerolinewidth": 2
          }
         }
        },
        "title": {
         "text": "DEN — 2024-25 Draft Schedule"
        },
        "xaxis": {
         "anchor": "y",
         "autorange": true,
         "domain": [
          0,
          1
         ],
         "range": [
          "2024-10-13 17:21:10.9567",
          "2025-04-24 13:28:34.1794"
         ],
         "title": {
          "text": "Date"
         },
         "type": "date"
        },
        "yaxis": {
         "anchor": "x",
         "autorange": true,
         "domain": [
          0,
          1
         ],
         "range": [
          -6.619639620655322,
          88.6945720230102
         ],
         "title": {
          "text": "Game"
         },
         "type": "linear"
        }
       }
      },
      "image/png": "[encoded data removed]",
      "text/html": [
       "<div>                            <div id=\"5a79d910-9553-400a-80b9-514653648669\" class=\"plotly-graph-div\" style=\"height:525px; width:100%;\"></div>            <script type=\"text/javascript\">                require([\"plotly\"], function(Plotly) {                    window.PLOTLYENV=window.PLOTLYENV || {};                                    if (document.getElementById(\"5a79d910-9553-400a-80b9-514653648669\")) {                    Plotly.newPlot(                        \"5a79d910-9553-400a-80b9-514653648669\",                        [{\"customdata\":[[\"vs OKC\",null,0.0],[\"vs LAC\",2.0,0.0],[\"vs TOR\",2.0,0.0],[\"vs MIA\",2.0,0.0],[\"vs DAL\",2.0,0.0],[\"vs DAL\",3.0,1414.2876189233991],[\"vs NYK\",2.0,1336.9729075973453],[\"vs GSW\",2.0,1336.9729075973453],[\"vs SAS\",2.0,0.0],[\"vs BOS\",3.0,1294.7828530691015],[\"vs BKN\",2.0,0.0],[\"vs PHI\",2.0,2494.5370677757924],[\"vs SAC\",2.0,0.0],[\"vs POR\",2.0,0.0],[\"vs CHA\",8.0,0.0],[\"vs LAL\",2.0,0.0],[\"vs SAC\",3.0,2842.060293024499],[\"vs PHX\",2.0,0.0],[\"vs MIN\",4.0,0.0],[\"vs MEM\",2.0,1425.6941710855424]],\"hovertemplate\":\"venue=Home\\u003cbr\\u003eevent=Normal\\u003cbr\\u003egamedate=%{x|%Y-%m-%d}\\u003cbr\\u003egame_no=%{y}\\u003cbr\\u003etravel_km=%{customdata[2]:.0f}\\u003cbr\\u003ematchup=%{customdata[0]}\\u003cbr\\u003erest_days=%{customdata[1]}\\u003cextra\\u003e\\u003c\\u002fextra\\u003e\",\"legendgroup\":\"Home, Normal\",\"marker\":{\"color\":\"#636efa\",\"size\":[0.0,0.0,0.0,0.0,0.0,1414.2876189233991,1336.9729075973453,1336.9729075973453,0.0,1294.7828530691015,0.0,2494.5370677757924,0.0,0.0,0.0,0.0,2842.060293024499,0.0,0.0,1425.6941710855424],\"sizemode\":\"area\",\"sizeref\":10.767002681731109,\"symbol\":\"circle\"},\"mode\":\"markers\",\"name\":\"Home, Normal\",\"orientation\":\"v\",\"showlegend\":true,\"x\":[\"2024-10-24T00:00:00\",\"2024-10-26T00:00:00\",\"2024-11-04T00:00:00\",\"2024-11-08T00:00:00\",\"2024-11-10T00:00:00\",\"2024-11-22T00:00:00\",\"2024-11-25T00:00:00\",\"2024-12-03T00:00:00\",\"2025-01-03T00:00:00\",\"2025-01-07T00:00:00\",\"2025-01-10T00:00:00\",\"2025-01-21T00:00:00\",\"2025-01-23T00:00:00\",\"2025-02-12T00:00:00\",\"2025-02-20T00:00:00\",\"2025-02-22T00:00:00\",\"2025-03-05T00:00:00\",\"2025-03-07T00:00:00\",\"2025-04-01T00:00:00\",\"2025-04-11T00:00:00\"],\"xaxis\":\"x\",\"y\":[1,2,7,9,10,14,16,19,31,33,35,41,42,53,54,55,60,61,74,79],\"yaxis\":\"y\",\"type\":\"scatter\"},{\"customdata\":[[\"vs UTA\",1.0,1124.1015850203564],[\"vs DET\",1.0,0.0],[\"vs LAC\",1.0,0.0],[\"vs HOU\",1.0,1066.152339451909],[\"vs ORL\",1.0,0.0],[\"vs WAS\",1.0,0.0],[\"vs CHI\",1.0,1416.7012298631298]],\"hovertemplate\":\"venue=Home\\u003cbr\\u003eevent=B2B & 4-in-6\\u003cbr\\u003egamedate=%{x|%Y-%m-%d}\\u003cbr\\u003egame_no=%{y}\\u003cbr\\u003etravel_km=%{customdata[2]:.0f}\\u003cbr\\u003ematchup=%{customdata[0]}\\u003cbr\\u003erest_days=%{customdata[1]}\\u003cextra\\u003e\\u003c\\u002fextra\\u003e\",\"legendgroup\":\"Home, B2B & 4-in-6\",\"marker\":{\"color\":\"#636efa\",\"size\":[1124.1015850203564,0.0,0.0,1066.152339451909,0.0,0.0,1416.7012298631298],\"sizemode\":\"area\",\"sizeref\":10.767002681731109,\"symbol\":\"diamond\"},\"mode\":\"markers\",\"name\":\"Home, B2B & 4-in-6\",\"orientation\":\"v\",\"showlegend\":true,\"x\":[\"2024-11-02T00:00:00\",\"2024-12-28T00:00:00\",\"2025-01-08T00:00:00\",\"2025-01-15T00:00:00\",\"2025-02-06T00:00:00\",\"2025-03-15T00:00:00\",\"2025-03-24T00:00:00\"],\"xaxis\":\"x\",\"y\":[6,28,34,38,50,66,71],\"yaxis\":\"y\",\"type\":\"scatter\"},{\"customdata\":[[\"vs OKC\",2.0,0.0],[\"vs CLE\",2.0,942.0959716238185],[\"vs ATL\",2.0,595.6712463764067],[\"vs NOP\",2.0,2183.693659522227],[\"vs NOP\",2.0,0.0],[\"vs POR\",2.0,942.0959716238185],[\"vs MIN\",2.0,813.5430773265962],[\"vs LAL\",2.0,0.0],[\"vs MIL\",2.0,0.0],[\"vs UTA\",2.0,0.0],[\"vs IND\",2.0,1520.5101385790822]],\"hovertemplate\":\"venue=Home\\u003cbr\\u003eevent=4-in-6\\u003cbr\\u003egamedate=%{x|%Y-%m-%d}\\u003cbr\\u003egame_no=%{y}\\u003cbr\\u003etravel_km=%{customdata[2]:.0f}\\u003cbr\\u003ematchup=%{customdata[0]}\\u003cbr\\u003erest_days=%{customdata[1]}\\u003cextra\\u003e\\u003c\\u002fextra\\u003e\",\"legendgroup\":\"Home, 4-in-6\",\"marker\":{\"color\":\"#636efa\",\"size\":[0.0,942.0959716238185,595.6712463764067,2183.693659522227,0.0,942.0959716238185,813.5430773265962,0.0,0.0,0.0,1520.5101385790822],\"sizemode\":\"area\",\"sizeref\":10.767002681731109,\"symbol\":\"square\"},\"mode\":\"markers\",\"name\":\"Home, 4-in-6\",\"orientation\":\"v\",\"showlegend\":true,\"x\":[\"2024-11-06T00:00:00\",\"2024-12-27T00:00:00\",\"2025-01-01T00:00:00\",\"2025-02-03T00:00:00\",\"2025-02-05T00:00:00\",\"2025-02-10T00:00:00\",\"2025-03-12T00:00:00\",\"2025-03-14T00:00:00\",\"2025-03-26T00:00:00\",\"2025-03-28T00:00:00\",\"2025-04-06T00:00:00\"],\"xaxis\":\"x\",\"y\":[8,27,30,48,49,52,64,65,72,73,77],\"yaxis\":\"y\",\"type\":\"scatter\"},{\"customdata\":[[\"vs PHX\",1.0,1740.0944098671907],[\"vs SAS\",1.0,0.0]],\"hovertemplate\":\"venue=Home\\u003cbr\\u003eevent=B2B\\u003cbr\\u003egamedate=%{x|%Y-%m-%d}\\u003cbr\\u003egame_no=%{y}\\u003cbr\\u003etravel_km=%{customdata[2]:.0f}\\u003cbr\\u003ematchup=%{customdata[0]}\\u003cbr\\u003erest_days=%{customdata[1]}\\u003cextra\\u003e\\u003c\\u002fextra\\u003e\",\"legendgroup\":\"Home, B2B\",\"marker\":{\"color\":\"#636efa\",\"size\":[1740.0944098671907,0.0],\"sizemode\":\"area\",\"sizeref\":10.767002681731109,\"symbol\":\"x\"},\"mode\":\"markers\",\"name\":\"Home, B2B\",\"orientation\":\"v\",\"showlegend\":true,\"x\":[\"2024-12-23T00:00:00\",\"2025-04-02T00:00:00\"],\"xaxis\":\"x\",\"y\":[25,75],\"yaxis\":\"y\",\"type\":\"scatter\"},{\"customdata\":[[\"@ TOR\",2.0,2162.3783829769227],[\"@ MIN\",3.0,1640.259465913274],[\"@ NOP\",5.0,1740.0944098671907],[\"@ MEM\",2.0,577.0213468340678],[\"@ MEM\",2.0,0.0],[\"@ LAC\",4.0,935.0457581075054],[\"@ CLE\",2.0,1971.6947491653882],[\"@ WAS\",2.0,490.4042520058147],[\"@ POR\",11.0,3488.508868880879],[\"@ NOP\",3.0,3314.4069362291157],[\"@ PHX\",2.0,942.0959716238185],[\"@ DAL\",2.0,0.0],[\"@ MIN\",2.0,1124.1015850203564],[\"@ CHI\",2.0,568.4347595670457],[\"@ NYK\",2.0,1148.206381537663],[\"@ PHI\",2.0,137.47864385457567],[\"@ IND\",2.0,1608.55817511001],[\"@ MIL\",3.0,393.12697278323645],[\"@ BOS\",2.0,984.6364130456426],[\"@ OKC\",2.0,813.5430773265962],[\"@ POR\",2.0,1331.0619544656363],[\"@ HOU\",2.0,2952.2040860825045],[\"@ GSW\",2.0,1520.5101385790822],[\"@ SAC\",3.0,1425.6941710855424],[\"@ HOU\",2.0,1416.7012298631298]],\"hovertemplate\":\"venue=Away\\u003cbr\\u003eevent=Normal\\u003cbr\\u003egamedate=%{x|%Y-%m-%d}\\u003cbr\\u003egame_no=%{y}\\u003cbr\\u003etravel_km=%{customdata[2]:.0f}\\u003cbr\\u003ematchup=%{customdata[0]}\\u003cbr\\u003erest_days=%{customdata[1]}\\u003cextra\\u003e\\u003c\\u002fextra\\u003e\",\"legendgroup\":\"Away, Normal\",\"marker\":{\"color\":\"#EF553B\",\"size\":[2162.3783829769227,1640.259465913274,1740.0944098671907,577.0213468340678,0.0,935.0457581075054,1971.6947491653882,490.4042520058147,3488.508868880879,3314.4069362291157,942.0959716238185,0.0,1124.1015850203564,568.4347595670457,1148.206381537663,137.47864385457567,1608.55817511001,393.12697278323645,984.6364130456426,813.5430773265962,1331.0619544656363,2952.2040860825045,1520.5101385790822,1425.6941710855424,1416.7012298631298],\"sizemode\":\"area\",\"sizeref\":10.767002681731109,\"symbol\":\"circle\"},\"mode\":\"markers\",\"name\":\"Away, Normal\",\"orientation\":\"v\",\"showlegend\":true,\"x\":[\"2024-10-28T00:00:00\",\"2024-11-01T00:00:00\",\"2024-11-15T00:00:00\",\"2024-11-17T00:00:00\",\"2024-11-19T00:00:00\",\"2024-12-01T00:00:00\",\"2024-12-05T00:00:00\",\"2024-12-07T00:00:00\",\"2024-12-19T00:00:00\",\"2024-12-22T00:00:00\",\"2024-12-25T00:00:00\",\"2025-01-14T00:00:00\",\"2025-01-25T00:00:00\",\"2025-01-27T00:00:00\",\"2025-01-29T00:00:00\",\"2025-01-31T00:00:00\",\"2025-02-24T00:00:00\",\"2025-02-27T00:00:00\",\"2025-03-02T00:00:00\",\"2025-03-09T00:00:00\",\"2025-03-21T00:00:00\",\"2025-03-23T00:00:00\",\"2025-04-04T00:00:00\",\"2025-04-09T00:00:00\",\"2025-04-13T00:00:00\"],\"xaxis\":\"x\",\"y\":[3,5,11,12,13,18,20,21,23,24,26,37,43,44,45,46,56,57,59,62,69,70,76,78,80],\"yaxis\":\"y\",\"type\":\"scatter\"},{\"customdata\":[[\"@ BKN\",1.0,553.6682125313125],[\"@ ATL\",1.0,873.1054698798946],[\"@ SAS\",1.0,1294.7828530691015],[\"@ CHA\",1.0,720.7069808081599],[\"@ OKC\",1.0,0.0]],\"hovertemplate\":\"venue=Away\\u003cbr\\u003eevent=B2B & 4-in-6\\u003cbr\\u003egamedate=%{x|%Y-%m-%d}\\u003cbr\\u003egame_no=%{y}\\u003cbr\\u003etravel_km=%{customdata[2]:.0f}\\u003cbr\\u003ematchup=%{customdata[0]}\\u003cbr\\u003erest_days=%{customdata[1]}\\u003cextra\\u003e\\u003c\\u002fextra\\u003e\",\"legendgroup\":\"Away, B2B & 4-in-6\",\"marker\":{\"color\":\"#EF553B\",\"size\":[553.6682125313125,873.1054698798946,1294.7828530691015,720.7069808081599,0.0],\"sizemode\":\"area\",\"sizeref\":10.767002681731109,\"symbol\":\"diamond\"},\"mode\":\"markers\",\"name\":\"Away, B2B & 4-in-6\",\"orientation\":\"v\",\"showlegend\":true,\"x\":[\"2024-10-29T00:00:00\",\"2024-12-08T00:00:00\",\"2025-01-04T00:00:00\",\"2025-02-01T00:00:00\",\"2025-03-10T00:00:00\"],\"xaxis\":\"x\",\"y\":[4,22,32,47,63],\"yaxis\":\"y\",\"type\":\"scatter\"},{\"customdata\":[[\"@ UTA\",2.0,595.6712463764067],[\"@ UTA\",2.0,595.6712463764067],[\"@ DAL\",2.0,1066.152339451909],[\"@ MIA\",2.0,2777.2274372938014],[\"@ ORL\",2.0,328.69194260932414],[\"@ PHX\",2.0,942.0959716238185],[\"@ GSW\",2.0,1520.5101385790822],[\"@ LAL\",2.0,555.9704335583473]],\"hovertemplate\":\"venue=Away\\u003cbr\\u003eevent=4-in-6\\u003cbr\\u003egamedate=%{x|%Y-%m-%d}\\u003cbr\\u003egame_no=%{y}\\u003cbr\\u003etravel_km=%{customdata[2]:.0f}\\u003cbr\\u003ematchup=%{customdata[0]}\\u003cbr\\u003erest_days=%{customdata[1]}\\u003cextra\\u003e\\u003c\\u002fextra\\u003e\",\"legendgroup\":\"Away, 4-in-6\",\"marker\":{\"color\":\"#EF553B\",\"size\":[595.6712463764067,595.6712463764067,1066.152339451909,2777.2274372938014,328.69194260932414,942.0959716238185,1520.5101385790822,555.9704335583473],\"sizemode\":\"area\",\"sizeref\":10.767002681731109,\"symbol\":\"square\"},\"mode\":\"markers\",\"name\":\"Away, 4-in-6\",\"orientation\":\"v\",\"showlegend\":true,\"x\":[\"2024-11-27T00:00:00\",\"2024-12-30T00:00:00\",\"2025-01-12T00:00:00\",\"2025-01-17T00:00:00\",\"2025-01-19T00:00:00\",\"2025-02-08T00:00:00\",\"2025-03-17T00:00:00\",\"2025-03-19T00:00:00\"],\"xaxis\":\"x\",\"y\":[17,29,36,39,40,51,67,68],\"yaxis\":\"y\",\"type\":\"scatter\"},{\"customdata\":[[\"@ LAL\",1.0,1336.9729075973453],[\"@ DET\",1.0,404.8994208179393]],\"hovertemplate\":\"venue=Away\\u003cbr\\u003eevent=B2B\\u003cbr\\u003egamedate=%{x|%Y-%m-%d}\\u003cbr\\u003egame_no=%{y}\\u003cbr\\u003etravel_km=%{customdata[2]:.0f}\\u003cbr\\u003ematchup=%{customdata[0]}\\u003cbr\\u003erest_days=%{customdata[1]}\\u003cextra\\u003e\\u003c\\u002fextra\\u003e\",\"legendgroup\":\"Away, B2B\",\"marker\":{\"color\":\"#EF553B\",\"size\":[1336.9729075973453,404.8994208179393],\"sizemode\":\"area\",\"sizeref\":10.767002681731109,\"symbol\":\"x\"},\"mode\":\"markers\",\"name\":\"Away, B2B\",\"orientation\":\"v\",\"showlegend\":true,\"x\":[\"2024-11-23T00:00:00\",\"2025-02-28T00:00:00\"],\"xaxis\":\"x\",\"y\":[15,58],\"yaxis\":\"y\",\"type\":\"scatter\"}],                        {\"template\":{\"data\":{\"histogram2dcontour\":[{\"type\":\"histogram2dcontour\",\"colorbar\":{\"outlinewidth\":0,\"ticks\":\"\"},\"colorscale\":[[0.0,\"#0d0887\"],[0.1111111111111111,\"#46039f\"],[0.2222222222222222,\"#7201a8\"],[0.3333333333333333,\"#9c179e\"],[0.4444444444444444,\"#bd3786\"],[0.5555555555555556,\"#d8576b\"],[0.6666666666666666,\"#ed7953\"],[0.7777777777777778,\"#fb9f3a\"],[0.8888888888888888,\"#fdca26\"],[1.0,\"#f0f921\"]]}],\"choropleth\":[{\"type\":\"choropleth\",\"colorbar\":{\"outlinewidth\":0,\"ticks\":\"\"}}],\"histogram2d\":[{\"type\":\"histogram2d\",\"colorbar\":{\"outlinewidth\":0,\"ticks\":\"\"},\"colorscale\":[[0.0,\"#0d0887\"],[0.1111111111111111,\"#46039f\"],[0.2222222222222222,\"#7201a8\"],[0.3333333333333333,\"#9c179e\"],[0.4444444444444444,\"#bd3786\"],[0.5555555555555556,\"#d8576b\"],[0.6666666666666666,\"#ed7953\"],[0.7777777777777778,\"#fb9f3a\"],[0.8888888888888888,\"#fdca26\"],[1.0,\"#f0f921\"]]}],\"heatmap\":[{\"type\":\"heatmap\",\"colorbar\":{\"outlinewidth\":0,\"ticks\":\"\"},\"colorscale\":[[0.0,\"#0d0887\"],[0.1111111111111111,\"#46039f\"],[0.2222222222222222,\"#7201a8\"],[0.3333333333333333,\"#9c179e\"],[0.4444444444444444,\"#bd3786\"],[0.5555555555555556,\"#d8576b\"],[0.6666666666666666,\"#ed7953\"],[0.7777777777777778,\"#fb9f3a\"],[0.8888888888888888,\"#fdca26\"],[1.0,\"#f0f921\"]]}],\"heatmapgl\":[{\"type\":\"heatmapgl\",\"colorbar\":{\"outlinewidth\":0,\"ticks\":\"\"},\"colorscale\":[[0.0,\"#0d0887\"],[0.1111111111111111,\"#46039f\"],[0.2222222222222222,\"#7201a8\"],[0.3333333333333333,\"#9c179e\"],[0.4444444444444444,\"#bd3786\"],[0.5555555555555556,\"#d8576b\"],[0.6666666666666666,\"#ed7953\"],[0.7777777777777778,\"#fb9f3a\"],[0.8888888888888888,\"#fdca26\"],[1.0,\"#f0f921\"]]}],\"contourcarpet\":[{\"type\":\"contourcarpet\",\"colorbar\":{\"outlinewidth\":0,\"ticks\":\"\"}}],\"contour\":[{\"type\":\"contour\",\"colorbar\":{\"outlinewidth\":0,\"ticks\":\"\"},\"colorscale\":[[0.0,\"#0d0887\"],[0.1111111111111111,\"#46039f\"],[0.2222222222222222,\"#7201a8\"],[0.3333333333333333,\"#9c179e\"],[0.4444444444444444,\"#bd3786\"],[0.5555555555555556,\"#d8576b\"],[0.6666666666666666,\"#ed7953\"],[0.7777777777777778,\"#fb9f3a\"],[0.8888888888888888,\"#fdca26\"],[1.0,\"#f0f921\"]]}],\"surface\":[{\"type\":\"surface\",\"colorbar\":{\"outlinewidth\":0,\"ticks\":\"\"},\"colorscale\":[[0.0,\"#0d0887\"],[0.1111111111111111,\"#46039f\"],[0.2222222222222222,\"#7201a8\"],[0.3333333333333333,\"#9c179e\"],[0.4444444444444444,\"#bd3786\"],[0.5555555555555556,\"#d8576b\"],[0.6666666666666666,\"#ed7953\"],[0.7777777777777778,\"#fb9f3a\"],[0.8888888888888888,\"#fdca26\"],[1.0,\"#f0f921\"]]}],\"mesh3d\":[{\"type\":\"mesh3d\",\"colorbar\":{\"outlinewidth\":0,\"ticks\":\"\"}}],\"scatter\":[{\"fillpattern\":{\"fillmode\":\"overlay\",\"size\":10,\"solidity\":0.2},\"type\":\"scatter\"}],\"parcoords\":[{\"type\":\"parcoords\",\"line\":{\"colorbar\":{\"outlinewidth\":0,\"ticks\":\"\"}}}],\"scatterpolargl\":[{\"type\":\"scatterpolargl\",\"marker\":{\"colorbar\":{\"outlinewidth\":0,\"ticks\":\"\"}}}],\"bar\":[{\"error_x\":{\"color\":\"#2a3f5f\"},\"error_y\":{\"color\":\"#2a3f5f\"},\"marker\":{\"line\":{\"color\":\"#E5ECF6\",\"width\":0.5},\"pattern\":{\"fillmode\":\"overlay\",\"size\":10,\"solidity\":0.2}},\"type\":\"bar\"}],\"scattergeo\":[{\"type\":\"scattergeo\",\"marker\":{\"colorbar\":{\"outlinewidth\":0,\"ticks\":\"\"}}}],\"scatterpolar\":[{\"type\":\"scatterpolar\",\"marker\":{\"colorbar\":{\"outlinewidth\":0,\"ticks\":\"\"}}}],\"histogram\":[{\"marker\":{\"pattern\":{\"fillmode\":\"overlay\",\"size\":10,\"solidity\":0.2}},\"type\":\"histogram\"}],\"scattergl\":[{\"type\":\"scattergl\",\"marker\":{\"colorbar\":{\"outlinewidth\":0,\"ticks\":\"\"}}}],\"scatter3d\":[{\"type\":\"scatter3d\",\"line\":{\"colorbar\":{\"outlinewidth\":0,\"ticks\":\"\"}},\"marker\":{\"colorbar\":{\"outlinewidth\":0,\"ticks\":\"\"}}}],\"scattermapbox\":[{\"type\":\"scattermapbox\",\"marker\":{\"colorbar\":{\"outlinewidth\":0,\"ticks\":\"\"}}}],\"scatterternary\":[{\"type\":\"scatterternary\",\"marker\":{\"colorbar\":{\"outlinewidth\":0,\"ticks\":\"\"}}}],\"scattercarpet\":[{\"type\":\"scattercarpet\",\"marker\":{\"colorbar\":{\"outlinewidth\":0,\"ticks\":\"\"}}}],\"carpet\":[{\"aaxis\":{\"endlinecolor\":\"#2a3f5f\",\"gridcolor\":\"white\",\"linecolor\":\"white\",\"minorgridcolor\":\"white\",\"startlinecolor\":\"#2a3f5f\"},\"baxis\":{\"endlinecolor\":\"#2a3f5f\",\"gridcolor\":\"white\",\"linecolor\":\"white\",\"minorgridcolor\":\"white\",\"startlinecolor\":\"#2a3f5f\"},\"type\":\"carpet\"}],\"table\":[{\"cells\":{\"fill\":{\"color\":\"#EBF0F8\"},\"line\":{\"color\":\"white\"}},\"header\":{\"fill\":{\"color\":\"#C8D4E3\"},\"line\":{\"color\":\"white\"}},\"type\":\"table\"}],\"barpolar\":[{\"marker\":{\"line\":{\"color\":\"#E5ECF6\",\"width\":0.5},\"pattern\":{\"fillmode\":\"overlay\",\"size\":10,\"solidity\":0.2}},\"type\":\"barpolar\"}],\"pie\":[{\"automargin\":true,\"type\":\"pie\"}]},\"layout\":{\"autotypenumbers\":\"strict\",\"colorway\":[\"#636efa\",\"#EF553B\",\"#00cc96\",\"#ab63fa\",\"#FFA15A\",\"#19d3f3\",\"#FF6692\",\"#B6E880\",\"#FF97FF\",\"#FECB52\"],\"font\":{\"color\":\"#2a3f5f\"},\"hovermode\":\"closest\",\"hoverlabel\":{\"align\":\"left\"},\"paper_bgcolor\":\"white\",\"plot_bgcolor\":\"#E5ECF6\",\"polar\":{\"bgcolor\":\"#E5ECF6\",\"angularaxis\":{\"gridcolor\":\"white\",\"linecolor\":\"white\",\"ticks\":\"\"},\"radialaxis\":{\"gridcolor\":\"white\",\"linecolor\":\"white\",\"ticks\":\"\"}},\"ternary\":{\"bgcolor\":\"#E5ECF6\",\"aaxis\":{\"gridcolor\":\"white\",\"linecolor\":\"white\",\"ticks\":\"\"},\"baxis\":{\"gridcolor\":\"white\",\"linecolor\":\"white\",\"ticks\":\"\"},\"caxis\":{\"gridcolor\":\"white\",\"linecolor\":\"white\",\"ticks\":\"\"}},\"coloraxis\":{\"colorbar\":{\"outlinewidth\":0,\"ticks\":\"\"}},\"colorscale\":{\"sequential\":[[0.0,\"#0d0887\"],[0.1111111111111111,\"#46039f\"],[0.2222222222222222,\"#7201a8\"],[0.3333333333333333,\"#9c179e\"],[0.4444444444444444,\"#bd3786\"],[0.5555555555555556,\"#d8576b\"],[0.6666666666666666,\"#ed7953\"],[0.7777777777777778,\"#fb9f3a\"],[0.8888888888888888,\"#fdca26\"],[1.0,\"#f0f921\"]],\"sequentialminus\":[[0.0,\"#0d0887\"],[0.1111111111111111,\"#46039f\"],[0.2222222222222222,\"#7201a8\"],[0.3333333333333333,\"#9c179e\"],[0.4444444444444444,\"#bd3786\"],[0.5555555555555556,\"#d8576b\"],[0.6666666666666666,\"#ed7953\"],[0.7777777777777778,\"#fb9f3a\"],[0.8888888888888888,\"#fdca26\"],[1.0,\"#f0f921\"]],\"diverging\":[[0,\"#8e0152\"],[0.1,\"#c51b7d\"],[0.2,\"#de77ae\"],[0.3,\"#f1b6da\"],[0.4,\"#fde0ef\"],[0.5,\"#f7f7f7\"],[0.6,\"#e6f5d0\"],[0.7,\"#b8e186\"],[0.8,\"#7fbc41\"],[0.9,\"#4d9221\"],[1,\"#276419\"]]},\"xaxis\":{\"gridcolor\":\"white\",\"linecolor\":\"white\",\"ticks\":\"\",\"title\":{\"standoff\":15},\"zerolinecolor\":\"white\",\"automargin\":true,\"zerolinewidth\":2},\"yaxis\":{\"gridcolor\":\"white\",\"linecolor\":\"white\",\"ticks\":\"\",\"title\":{\"standoff\":15},\"zerolinecolor\":\"white\",\"automargin\":true,\"zerolinewidth\":2},\"scene\":{\"xaxis\":{\"backgroundcolor\":\"#E5ECF6\",\"gridcolor\":\"white\",\"linecolor\":\"white\",\"showbackground\":true,\"ticks\":\"\",\"zerolinecolor\":\"white\",\"gridwidth\":2},\"yaxis\":{\"backgroundcolor\":\"#E5ECF6\",\"gridcolor\":\"white\",\"linecolor\":\"white\",\"showbackground\":true,\"ticks\":\"\",\"zerolinecolor\":\"white\",\"gridwidth\":2},\"zaxis\":{\"backgroundcolor\":\"#E5ECF6\",\"gridcolor\":\"white\",\"linecolor\":\"white\",\"showbackground\":true,\"ticks\":\"\",\"zerolinecolor\":\"white\",\"gridwidth\":2}},\"shapedefaults\":{\"line\":{\"color\":\"#2a3f5f\"}},\"annotationdefaults\":{\"arrowcolor\":\"#2a3f5f\",\"arrowhead\":0,\"arrowwidth\":1},\"geo\":{\"bgcolor\":\"white\",\"landcolor\":\"#E5ECF6\",\"subunitcolor\":\"white\",\"showland\":true,\"showlakes\":true,\"lakecolor\":\"white\"},\"title\":{\"x\":0.05},\"mapbox\":{\"style\":\"light\"}}},\"xaxis\":{\"anchor\":\"y\",\"domain\":[0.0,1.0],\"title\":{\"text\":\"Date\"}},\"yaxis\":{\"anchor\":\"x\",\"domain\":[0.0,1.0],\"title\":{\"text\":\"Game\"}},\"legend\":{\"title\":{\"text\":\"venue, event\"},\"tracegroupgap\":0,\"itemsizing\":\"constant\"},\"margin\":{\"t\":60},\"title\":{\"text\":\"DEN \\u2014 2024-25 Draft Schedule\"}},                        {\"responsive\": true}                    ).then(function(){\n",
       "                            \n",
       "var gd = document.getElementById('5a79d910-9553-400a-80b9-514653648669');\n",
       "var x = new MutationObserver(function (mutations, observer) {{\n",
       "        var display = window.getComputedStyle(gd).display;\n",
       "        if (!display || display === 'none') {{\n",
       "            console.log([gd, 'removed!']);\n",
       "            Plotly.purge(gd);\n",
       "            observer.disconnect();\n",
       "        }}\n",
       "}});\n",
       "\n",
       "// Listen for the removal of the full notebook cells\n",
       "var notebookContainer = gd.closest('#notebook-container');\n",
       "if (notebookContainer) {{\n",
       "    x.observe(notebookContainer, {childList: true});\n",
       "}}\n",
       "\n",
       "// Listen for the clearing of the current output cell\n",
       "var outputEl = gd.closest('.output');\n",
       "if (outputEl) {{\n",
       "    x.observe(outputEl, {childList: true});\n",
       "}}\n",
       "\n",
       "                        })                };                });            </script>        </div>"
      ]
     },
     "metadata": {},
     "output_type": "display_data"
    }
   ],
   "source": [
    "import numpy as np\n",
    "import pandas as pd\n",
    "import plotly.express as px\n",
    "\n",
    "def q7_plot_team(draft_df, loc_df, team=\"OKC\", season=2024):\n",
    "    df = draft_df.copy()\n",
    "    \n",
    "    df[\"gamedate\"] = pd.to_datetime(df[\"gamedate\"]).dt.normalize()\n",
    "    for c in [\"team\", \"opponent\"]:\n",
    "        df[c] = df[c].astype(str).str.upper().str.strip()\n",
    "\n",
    "    # keep only this team + season, in time order\n",
    "    df = df[(df[\"team\"] == team) & (df[\"season\"] == season)].sort_values(\"gamedate\").reset_index(drop=True)\n",
    "\n",
    "    #label for plotting\n",
    "    df[\"venue\"] = df[\"home\"].map({1: \"Home\", 0: \"Away\"})\n",
    "    site_team = np.where(df[\"home\"].eq(1), df[\"team\"], df[\"opponent\"])\n",
    "\n",
    "    # pick latitude/longitude columns automatically from locations table\n",
    "    lat_col = next((c for c in loc_df.columns if \"lat\" in c.lower()), None)\n",
    "    lon_col = next((c for c in loc_df.columns if any(k in c.lower() for k in [\"lon\", \"lng\", \"long\"])), None)\n",
    "    if lat_col is None or lon_col is None:\n",
    "        raise ValueError(\"locations must have latitude and longitude columns (e.g., 'lat' and 'lon').\")\n",
    "\n",
    "    # map (lat, lon)\n",
    "    loc_map = (\n",
    "        loc_df.assign(team=lambda d: d[\"team\"].astype(str).str.upper().str.strip())\n",
    "              .set_index(\"team\")[[lat_col, lon_col]]\n",
    "              .rename(columns={lat_col: \"lat\", lon_col: \"lon\"})\n",
    "              .to_dict(\"index\")\n",
    "    )\n",
    "    df[\"lat\"] = [loc_map.get(t, {}).get(\"lat\", np.nan) for t in site_team]\n",
    "    df[\"lon\"] = [loc_map.get(t, {}).get(\"lon\", np.nan) for t in site_team]\n",
    "\n",
    "    # great-circle km from previous game site (0 for the first game)\n",
    "    def hav(a, b, c, d):\n",
    "        a, b, c, d = map(np.radians, [a, b, c, d])\n",
    "        dl, da = d - b, c - a\n",
    "        return 6371.0 * 2 * np.arcsin(np.sqrt(np.sin(da/2)**2 + np.cos(a) * np.cos(c) * np.sin(dl/2)**2))\n",
    "        \n",
    "    df[\"travel_km\"] = hav(df[\"lat\"].shift(1), df[\"lon\"].shift(1), df[\"lat\"], df[\"lon\"]).fillna(0.0)\n",
    "\n",
    "    # days since last game\n",
    "    df[\"rest_days\"] = (df[\"gamedate\"] - df[\"gamedate\"].shift(1)).dt.days\n",
    "    \n",
    "    # second night of a back-to-back\n",
    "    df[\"is_b2b\"] = df[\"rest_days\"].eq(1)\n",
    "\n",
    "    # fast integer dates\n",
    "    d = df[\"gamedate\"].to_numpy(dtype=\"datetime64[D]\").astype(\"int64\")\n",
    "\n",
    "    # start of window [D-5, D]\n",
    "    starts = np.searchsorted(d, d - 5)\n",
    "\n",
    "    # games inside that window\n",
    "    counts = np.arange(len(d)) - starts + 1\n",
    "    df[\"is_4in6\"] = counts == 4\n",
    "\n",
    "    df[\"event\"] = np.select(\n",
    "        [df[\"is_b2b\"] & df[\"is_4in6\"], df[\"is_b2b\"], df[\"is_4in6\"]],\n",
    "        [\"B2B & 4-in-6\", \"B2B\", \"4-in-6\"], default=\"Normal\"\n",
    "    )\n",
    "\n",
    "    # y-axis: game number through the season\n",
    "    df[\"game_no\"] = np.arange(1, len(df) + 1)\n",
    "    df[\"matchup\"] = np.where(df[\"home\"].eq(1), \"vs \" + df[\"opponent\"], \"@ \" + df[\"opponent\"])\n",
    "\n",
    "    # date vs game #\n",
    "    #colored by Home/Away, symbol by event, size by travel km\n",
    "    fig = px.scatter(\n",
    "        df,\n",
    "        x=\"gamedate\", y=\"game_no\",\n",
    "        color=\"venue\", symbol=\"event\", size=\"travel_km\", size_max=18,\n",
    "        hover_data={\"gamedate\": \"|%Y-%m-%d\", \"matchup\": True, \"rest_days\": True, \"travel_km\": \":.0f\"}\n",
    "    )\n",
    "    fig.update_layout(title=f\"{team} — {season}-25 Draft Schedule\", xaxis_title=\"Date\", yaxis_title=\"Game\")\n",
    "    fig.show()  # actually render the chart\n",
    "\n",
    "    return df, fig\n",
    "\n",
    "_ = q7_plot_team(draft_schedule, locations, team=\"OKC\", season=2024)\n",
    "_ = q7_plot_team(draft_schedule, locations, team=\"DEN\", season=2024)"
   ]
  },
  {
   "cell_type": "markdown",
   "metadata": {},
   "source": [
    "## Comments:\n",
    "In this question, I first do the cleanning of the data and keep only one team and season, then decide where each game is played (home arena or the opponent’s arena) and attach that arena’s latitude/longitude. Using those coordinates, I compute travel between games with the haversine formula, which gives great-circle distance on Earth (R ≈ 6371 km). I also compute rest days by subtracting the previous game’s date and mark a back-to-back when rest_days equals 1. To find “4th game in 6 nights,” I slide a 6-day window [D-5, D] over the schedule and mark the game when the count inside the window reaches 4. Finally, we plot an interactive chart where date is on the x-axis, game number on the y-axis, color shows Home/Away, symbol shows B2B/4-in-6, and size shows travel distance."
   ]
  },
  {
   "cell_type": "markdown",
   "metadata": {},
   "source": [
    "## Part 3 -- Modeling     \n",
    "\n",
    "**QUESTION:** Please estimate how many more/fewer regular season wins each team has had due to schedule-related factors from 2019-20 though 2023-24. Your final answer should have one number for each team, representing the total number of wins (not per 82, and not a per-season average). You may consider the on-court strength of the scheduled opponents as well as the impact of travel/schedule density. Please include the teams and estimates for the most helped and most hurt in the answer key.    \n",
    "\n",
    "If you fit a model to help answer this question, please write a paragraph explaining your model, and include a simple model diagnostic (eg a printed summary of a regression, a variable importance plot, etc).    "
   ]
  },
  {
   "cell_type": "markdown",
   "metadata": {},
   "source": [
    "\n",
    "- Most Helped by Schedule: ATL (99.1 or 0.991 wins)     \n",
    "- Most Hurt by Schedule: LAC (-189 or -1.89 wins)    \n"
   ]
  },
  {
   "cell_type": "code",
   "execution_count": 258,
   "metadata": {},
   "outputs": [
    {
     "name": "stderr",
     "output_type": "stream",
     "text": [
      "/var/folders/zj/kwt4k09945q27x1kxwcy2j3w0000gn/T/ipykernel_88139/3712793187.py:75: DeprecationWarning:\n",
      "\n",
      "DataFrameGroupBy.apply operated on the grouping columns. This behavior is deprecated, and in a future version of pandas the grouping columns will be excluded from the operation. Either pass `include_groups=False` to exclude the groupings or explicitly select the grouping columns after groupby to silence this warning.\n",
      "\n",
      "/var/folders/zj/kwt4k09945q27x1kxwcy2j3w0000gn/T/ipykernel_88139/3712793187.py:76: DeprecationWarning:\n",
      "\n",
      "DataFrameGroupBy.apply operated on the grouping columns. This behavior is deprecated, and in a future version of pandas the grouping columns will be excluded from the operation. Either pass `include_groups=False` to exclude the groupings or explicitly select the grouping columns after groupby to silence this warning.\n",
      "\n"
     ]
    }
   ],
   "source": [
    "import numpy as np\n",
    "import pandas as pd\n",
    "import matplotlib.pyplot as plt\n",
    "from sklearn.model_selection import train_test_split\n",
    "from sklearn.preprocessing import StandardScaler\n",
    "from sklearn.linear_model import LogisticRegression\n",
    "from sklearn.pipeline import Pipeline\n",
    "from sklearn.metrics import roc_auc_score, accuracy_score\n",
    "\n",
    "SEASONS = list(range(2019, 2024))\n",
    "\n",
    "# Same format which above answers, copy dataframe, conver to date-to-date\n",
    "sched_df = schedule.copy()\n",
    "sched_df[\"gamedate\"] = pd.to_datetime(sched_df[\"gamedate\"]).dt.normalize()\n",
    "for c in [\"team\", \"opponent\"]:\n",
    "    sched_df[c] = sched_df[c].astype(str).str.upper().str.strip()\n",
    "#target\n",
    "sched_df = sched_df[sched_df[\"season\"].isin(SEASONS)].copy()\n",
    "\n",
    "locs_df = locations.copy()\n",
    "locs_df[\"team\"] = locs_df[\"team\"].astype(str).str.upper().str.strip()\n",
    "# fast team -> {lat, lon, tz} lookup\n",
    "arena_lookup = locs_df.set_index(\"team\")[[\"latitude\", \"longitude\", \"timezone\"]].to_dict(orient=\"index\")\n",
    "\n",
    "#schedule features, per team and per game\n",
    "def site_lat_lon_tz(row):\n",
    "    # pick arena owner, home game or away\n",
    "    site_team = row[\"team\"] if int(row[\"home\"]) == 1 else row[\"opponent\"]\n",
    "    info = arena_lookup.get(site_team, {\"latitude\": np.nan, \"longitude\": np.nan, \"timezone\": \"UNK\"})\n",
    "    return pd.Series([info[\"latitude\"], info[\"longitude\"], info[\"timezone\"]])\n",
    "\n",
    "# timezone, arena coords\n",
    "sched_df[[\"site_lat\", \"site_lon\", \"site_tz\"]] = sched_df.apply(site_lat_lon_tz, axis=1)\n",
    "\n",
    "# previous game dates, latitude, longitude and timezone\n",
    "sched_df = sched_df.sort_values([\"team\", \"gamedate\"])\n",
    "sched_df[\"prev_date\"] = sched_df.groupby(\"team\")[\"gamedate\"].shift(1)\n",
    "sched_df[\"prev_lat\"]  = sched_df.groupby(\"team\")[\"site_lat\"].shift(1)\n",
    "sched_df[\"prev_lon\"]  = sched_df.groupby(\"team\")[\"site_lon\"].shift(1)\n",
    "sched_df[\"prev_tz\"]   = sched_df.groupby(\"team\")[\"site_tz\"].shift(1)\n",
    "\n",
    "# rest days and B2B flag\n",
    "#days since last game\n",
    "sched_df[\"rest_days\"] = (sched_df[\"gamedate\"] - sched_df[\"prev_date\"]).dt.days\n",
    "sched_df[\"rest_days\"] = sched_df[\"rest_days\"].fillna(5).clip(0, 10)\n",
    "sched_df[\"is_b2b\"]    = (sched_df[\"rest_days\"] == 1).astype(int)\n",
    "\n",
    "def haversine_km(lat1, lon1, lat2, lon2):\n",
    "    \"\"\"Great-circle distance in km; 6371.0 is Earth radius in km.\"\"\"\n",
    "    lat1 = np.radians(pd.to_numeric(lat1, errors=\"coerce\"))\n",
    "    lon1 = np.radians(pd.to_numeric(lon1, errors=\"coerce\"))\n",
    "    lat2 = np.radians(pd.to_numeric(lat2, errors=\"coerce\"))\n",
    "    lon2 = np.radians(pd.to_numeric(lon2, errors=\"coerce\"))\n",
    "    dlon = lon2 - lon1; dlat = lat2 - lat1\n",
    "    a = np.sin(dlat/2)**2 + np.cos(lat1)*np.cos(lat2)*np.sin(dlon/2)**2\n",
    "    #earth’s mean radius in kilometers\n",
    "    return 6371.0 * 2 * np.arcsin(np.sqrt(a))\n",
    "\n",
    "# travel since previous game (0 if first game or missing coords)\n",
    "sched_df[\"travel_km\"] = haversine_km(sched_df[\"prev_lat\"], sched_df[\"prev_lon\"], sched_df[\"site_lat\"], sched_df[\"site_lon\"]).fillna(0.0)\n",
    "# timezone change flag (can affect fatigue)\n",
    "sched_df[\"tz_changed\"] = ((sched_df[\"prev_tz\"] != sched_df[\"site_tz\"]) & ~sched_df[\"prev_tz\"].isna()).astype(int)\n",
    "\n",
    "def count_games_last_n(group, days):\n",
    "    \"\"\"Sliding window: how many games in the last N days (including today).\"\"\"\n",
    "    d = group[\"gamedate\"].values.astype(\"datetime64[D]\").astype(\"int64\")  # fast int days\n",
    "    n = len(d); out = np.ones(n, dtype=int); left = 0\n",
    "    for i in range(n):\n",
    "        while d[i] - d[left] > days - 1:  # move left edge to keep window within N days\n",
    "            left += 1\n",
    "        out[i] = i - left + 1\n",
    "    return pd.Series(out, index=group.index)\n",
    "\n",
    "# density metrics\n",
    "sched_df[\"games_last_4\"] = sched_df.groupby(\"team\", group_keys=False).apply(lambda g: count_games_last_n(g, 4))\n",
    "sched_df[\"games_last_6\"] = sched_df.groupby(\"team\", group_keys=False).apply(lambda g: count_games_last_n(g, 6))"
   ]
  },
  {
   "cell_type": "code",
   "execution_count": 260,
   "metadata": {},
   "outputs": [],
   "source": [
    "# build opponent view by swapping team/opponent so we can subtract\n",
    "opp_view = sched_df[[\"season\",\"gamedate\",\"team\",\"opponent\",\"rest_days\",\"is_b2b\",\"travel_km\",\"tz_changed\",\"games_last_4\",\"games_last_6\"]].copy()\n",
    "opp_view.columns = [\"season\",\"gamedate\",\"opponent\",\"team\",\"opp_rest_days\",\"opp_is_b2b\",\"opp_travel_km\",\"opp_tz_changed\",\"opp_games_last_4\",\"opp_games_last_6\"]\n",
    "\n",
    "# join on SAME season/date/team/opponent\n",
    "both_sides = sched_df.merge(opp_view, on=[\"season\",\"gamedate\",\"team\",\"opponent\"], how=\"left\")\n",
    "\n",
    "# team minus opponent = schedule advantage\n",
    "both_sides[\"rest_diff\"]      = both_sides[\"rest_days\"]     - both_sides[\"opp_rest_days\"]\n",
    "both_sides[\"b2b_diff\"]       = both_sides[\"is_b2b\"]        - both_sides[\"opp_is_b2b\"]\n",
    "both_sides[\"games4_diff\"]    = both_sides[\"games_last_4\"]  - both_sides[\"opp_games_last_4\"]\n",
    "both_sides[\"games6_diff\"]    = both_sides[\"games_last_6\"]  - both_sides[\"opp_games_last_6\"]\n",
    "both_sides[\"travel_diff_km\"] = both_sides[\"travel_km\"]     - both_sides[\"opp_travel_km\"]\n",
    "both_sides[\"tz_diff\"]        = both_sides[\"tz_changed\"]    - both_sides[\"opp_tz_changed\"]\n",
    "\n",
    "model_frame = both_sides[[\n",
    "    \"season\",\"gamedate\",\"team\",\"opponent\",\"home\",\"win\",\n",
    "    \"rest_diff\",\"b2b_diff\",\"games4_diff\",\"games6_diff\",\"travel_diff_km\",\"tz_diff\"\n",
    "]].copy()"
   ]
  },
  {
   "cell_type": "code",
   "execution_count": 262,
   "metadata": {},
   "outputs": [],
   "source": [
    "# team strength by season rating\n",
    "stats_df = game_data.copy()\n",
    "stats_df[\"gamedate\"] = pd.to_datetime(stats_df[\"gamedate\"]).dt.normalize()\n",
    "for c in [\"off_team\", \"def_team\"]:\n",
    "    stats_df[c] = stats_df[c].astype(str).str.upper().str.strip()\n",
    "stats_df = stats_df[stats_df[\"season\"].isin(SEASONS)].copy()\n",
    "\n",
    "#regular season\n",
    "if \"gametype\" in stats_df.columns:\n",
    "    stats_df = stats_df[stats_df[\"gametype\"] == 2].copy()\n",
    "\n",
    "# season totals → ORtg / DRtg\n",
    "off_sum = stats_df.groupby([\"season\",\"off_team\"]).agg(pts=(\"points\",\"sum\"), poss=(\"possessions\",\"sum\")).reset_index().rename(columns={\"off_team\":\"team\"})\n",
    "def_sum = stats_df.groupby([\"season\",\"def_team\"]).agg(opp_pts=(\"points\",\"sum\"), opp_poss=(\"possessions\",\"sum\")).reset_index().rename(columns={\"def_team\":\"team\"})\n",
    "ratings = off_sum.merge(def_sum, on=[\"season\",\"team\"], how=\"inner\")\n",
    "# if divide by zero\n",
    "ratings[\"poss\"]     = ratings[\"poss\"].replace(0, np.nan)\n",
    "ratings[\"opp_poss\"] = ratings[\"opp_poss\"].replace(0, np.nan)\n",
    "ratings[\"ortg\"] = 100.0 * ratings[\"pts\"]/ ratings[\"poss\"]\n",
    "ratings[\"drtg\"] = 100.0 * ratings[\"opp_pts\"] / ratings[\"opp_poss\"]\n",
    "# sum of strength\n",
    "ratings[\"net_rating\"] = ratings[\"ortg\"] - ratings[\"drtg\"]\n",
    "\n",
    "# attach team and opponent strength; take the gap\n",
    "df = model_frame.merge(ratings[[\"season\",\"team\",\"net_rating\"]], on=[\"season\",\"team\"], how=\"left\")\n",
    "df = df.merge(ratings[[\"season\",\"team\",\"net_rating\"]].rename(columns={\"team\":\"opponent\",\"net_rating\":\"opp_net_rating\"}),\n",
    "              on=[\"season\",\"opponent\"], how=\"left\")\n",
    "\n",
    "# + means stronger than opponent\n",
    "df[\"net_rating_diff\"] = df[\"net_rating\"] - df[\"opp_net_rating\"]\n",
    "\n",
    "# keep complete rows and make win be 0 - 1\n",
    "need = [\"home\",\"win\",\"net_rating_diff\",\"rest_diff\",\"b2b_diff\",\"games4_diff\",\"games6_diff\",\"travel_diff_km\",\"tz_diff\"]\n",
    "df = df.dropna(subset=need).copy()\n",
    "df[\"win\"] = df[\"win\"].astype(int)"
   ]
  },
  {
   "cell_type": "code",
   "execution_count": 264,
   "metadata": {},
   "outputs": [
    {
     "name": "stdout",
     "output_type": "stream",
     "text": [
      "[Diagnostic] ROC-AUC=0.731  Accuracy=0.666\n"
     ]
    }
   ],
   "source": [
    "# fit model\n",
    "features = [\"home\",\"net_rating_diff\",\"rest_diff\",\"b2b_diff\",\"games4_diff\",\"games6_diff\",\"travel_diff_km\",\"tz_diff\"]\n",
    "X = df[features].copy()\n",
    "y = df[\"win\"].values\n",
    "\n",
    "X_train, X_test, y_train, y_test = train_test_split(X, y, test_size=0.20, random_state=42, stratify=y)  # fair test split\n",
    "model = Pipeline([(\"scaler\", StandardScaler()), (\"lr\", LogisticRegression(max_iter=500, solver=\"lbfgs\"))])\n",
    "model.fit(X_train, y_train)\n",
    "\n",
    "# check\n",
    "test_probs = model.predict_proba(X_test)[:, 1]\n",
    "print(f\"[Diagnostic] ROC-AUC={roc_auc_score(y_test, test_probs):.3f}  Accuracy={accuracy_score(y_test, (test_probs>=0.5).astype(int)):.3f}\")\n"
   ]
  },
  {
   "cell_type": "code",
   "execution_count": 266,
   "metadata": {},
   "outputs": [],
   "source": [
    "X_actual  = X.copy()\n",
    "X_neutral = X.copy()\n",
    "for col in [\"rest_diff\",\"b2b_diff\",\"games4_diff\",\"games6_diff\",\"travel_diff_km\",\"tz_diff\"]:\n",
    "    X_neutral[col] = 0.0\n",
    "\n",
    "# win prob with real schedule\n",
    "p_actual  = model.predict_proba(X_actual)[:, 1]\n",
    "# win prob with neutral schedule\n",
    "p_neutral = model.predict_proba(X_neutral)[:, 1]\n",
    "df[\"delta_winprob_from_schedule\"] = p_actual - p_neutral\n",
    "\n",
    "# sum per team and to the estimated wins gained/lost from schedule over all seasons\n",
    "wins_from_schedule = (\n",
    "    df.groupby(\"team\")[\"delta_winprob_from_schedule\"]\n",
    "      .sum()\n",
    "      .sort_values(ascending=False)\n",
    "      .reset_index()\n",
    "      .rename(columns={\"delta_winprob_from_schedule\": \"estimated_wins_from_schedule_2019_2023\"})\n",
    ")"
   ]
  },
  {
   "cell_type": "code",
   "execution_count": 268,
   "metadata": {},
   "outputs": [
    {
     "name": "stdout",
     "output_type": "stream",
     "text": [
      "\n",
      "Top 10 helped by schedule:\n",
      "team  estimated_wins_from_schedule_2019_2023\n",
      " ATL                                0.990886\n",
      " MIL                                0.797768\n",
      " CHI                                0.721337\n",
      " TOR                                0.717895\n",
      " DET                                0.682811\n",
      " MEM                                0.515041\n",
      " HOU                                0.505905\n",
      " POR                                0.489990\n",
      " MIN                                0.428276\n",
      " MIA                                0.382504\n",
      "\n",
      "Top 10 hurt by schedule:\n",
      "team  estimated_wins_from_schedule_2019_2023\n",
      " LAC                               -1.894922\n",
      " BOS                               -0.847458\n",
      " LAL                               -0.823841\n",
      " GSW                               -0.786366\n",
      " CHA                               -0.520487\n",
      " OKC                               -0.516382\n",
      " DEN                               -0.334300\n",
      " ORL                               -0.263228\n",
      " IND                               -0.248146\n",
      " DAL                               -0.236705\n"
     ]
    }
   ],
   "source": [
    "print(\"\\nTop 10 helped by schedule:\")\n",
    "print(wins_from_schedule.head(10).to_string(index=False))\n",
    "print(\"\\nTop 10 hurt by schedule:\")\n",
    "print(wins_from_schedule.tail(10).sort_values(\"estimated_wins_from_schedule_2019_2023\").to_string(index=False))"
   ]
  },
  {
   "cell_type": "code",
   "execution_count": 270,
   "metadata": {},
   "outputs": [
    {
     "data": {
      "image/png": "[encoded data removed]",
      "text/plain": [
       "<Figure size 600x400 with 1 Axes>"
      ]
     },
     "metadata": {},
     "output_type": "display_data"
    }
   ],
   "source": [
    "# plots\n",
    "coefs = model.named_steps[\"lr\"].coef_[0]\n",
    "coef_df = pd.DataFrame({\"feature\": features, \"coef\": coefs, \"abs_coef\": np.abs(coefs)})\n",
    "sched_only = coef_df[coef_df[\"feature\"].isin([\"rest_diff\",\"b2b_diff\",\"games4_diff\",\"games6_diff\",\"travel_diff_km\",\"tz_diff\"])]\\\n",
    "             .sort_values(\"abs_coef\")\n",
    "\n",
    "plt.figure(figsize=(6, 4))\n",
    "plt.barh(sched_only[\"feature\"], sched_only[\"abs_coef\"])\n",
    "plt.title(\"Schedule Feature Importance (standardized coefficients)\")\n",
    "plt.xlabel(\"Importance\")\n",
    "plt.tight_layout()\n",
    "plt.show()"
   ]
  },
  {
   "cell_type": "markdown",
   "metadata": {},
   "source": [
    "I predict a team’s chance to win each game using Logistic Regression. I feed the model who’s at home, how strong the team is compared to its opponent that season (net rating difference), and schedule advantages like extra rest, back-to-backs, how many games each side played in the last 4/6 nights, travel since the previous game, and time-zone changes. I standardize these inputs so they’re on the same scale, train the model, then run a counterfactual where I zero-out the schedule differences to see how much the schedule alone changes win probability. That per-game change, summed by team, gives my estimate of wins added or lost due to the schedule. Below is a quick diagnostic that prints test metrics and shows which factors matter most."
   ]
  },
  {
   "cell_type": "code",
   "execution_count": null,
   "metadata": {},
   "outputs": [],
   "source": []
  }
 ],
 "metadata": {
  "kernelspec": {
   "display_name": "Python [conda env:base] *",
   "language": "python",
   "name": "conda-base-py"
  },
  "language_info": {
   "codemirror_mode": {
    "name": "ipython",
    "version": 3
   },
   "file_extension": ".py",
   "mimetype": "text/x-python",
   "name": "python",
   "nbconvert_exporter": "python",
   "pygments_lexer": "ipython3",
   "version": "3.12.7"
  }
 },
 "nbformat": 4,
 "nbformat_minor": 4
}
